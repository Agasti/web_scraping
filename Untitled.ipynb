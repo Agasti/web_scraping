{
 "cells": [
  {
   "cell_type": "code",
   "execution_count": null,
   "metadata": {},
   "outputs": [],
   "source": []
  },
  {
   "cell_type": "code",
   "execution_count": 11,
   "metadata": {},
   "outputs": [],
   "source": [
    "import time\n",
    "from selenium import webdriver\n",
    "from selenium.webdriver.chrome.options import Options\n",
    "from selenium.webdriver.common.keys import Keys\n",
    "from selenium.webdriver.common.desired_capabilities import DesiredCapabilities\n",
    "from selenium.webdriver.support.ui import WebDriverWait\n",
    "from selenium.webdriver.common.by import By\n",
    "from selenium.webdriver.support import expected_conditions as EC\n",
    "import json, itertools, re, requests, random, datetime\n",
    "from datetime import datetime as dt\n",
    "from fake_useragent import UserAgent\n",
    "\n",
    "options = Options()\n",
    "\n",
    "options.add_argument('--headless')\n",
    "\n",
    "FLICKR = 'https://flickr.com/search/'\n",
    "TAGS = ['clouds', 'cloud', 'sky', 'storm', 'weather']\n",
    "\n",
    "caps = DesiredCapabilities.CHROME\n",
    "caps['loggingPref'] = {'performance': 'ALL'}\n",
    "\n",
    "xhrCallIntercept_js = \"\"\"\n",
    "(function(XHR) {\n",
    "  \"use strict\";\n",
    "\n",
    "  var element = document.createElement('div');\n",
    "  element.id = \"interceptedResponse\";\n",
    "  element.appendChild(document.createTextNode(\"\"));\n",
    "  document.body.appendChild(element);\n",
    "\n",
    "  var open = XHR.prototype.open;\n",
    "  var send = XHR.prototype.send;\n",
    "\n",
    "  XHR.prototype.open = function(method, url, async, user, pass) {\n",
    "    this._url = url; // want to track the url requested\n",
    "    open.call(this, method, url, async, user, pass);\n",
    "  };\n",
    "\n",
    "  XHR.prototype.send = function(data) {\n",
    "    var self = this;\n",
    "    var oldOnReadyStateChange;\n",
    "    var url = this._url;\n",
    "\n",
    "    function onReadyStateChange() {\n",
    "      if(self.status === 200 && self.readyState == 4 /* complete */) {\n",
    "        document.getElementById(\"interceptedResponse\").innerHTML +=\n",
    "          '{\"data\":' + self._url + ', \"headers\" :' + self.headers + ' }*****';\n",
    "      }\n",
    "      if(oldOnReadyStateChange) {\n",
    "        oldOnReadyStateChange();\n",
    "      }\n",
    "    }\n",
    "\n",
    "    if(this.addEventListener) {\n",
    "      this.addEventListener(\"readystatechange\", onReadyStateChange,\n",
    "        false);\n",
    "    } else {\n",
    "      oldOnReadyStateChange = this.onreadystatechange;\n",
    "      this.onreadystatechange = onReadyStateChange;\n",
    "    }\n",
    "    send.call(this, data);\n",
    "  }\n",
    "})(XMLHttpRequest);\n",
    "\"\"\"\n",
    "\n",
    "driver = webdriver.Chrome(options = options, desired_capabilities=caps)\n",
    "\n",
    "try:\n",
    "    url = FLICKR + \"?has_geo=1&media=photos&view_all=1&text=\" + TAGS[0]\n",
    "    \n",
    "    driver.get(url)\n",
    "    driver.execute_script(xhrCallIntercept_js)\n",
    "\n",
    "    print('title : \"{}\"'.format(driver.title))\n",
    "\n",
    "    time.sleep(5)\n",
    "\n",
    "except Exception as e:\n",
    "    print('Error: ' + str(e))\n",
    "\n",
    "wait = \"Getting AJAX data...\"\n",
    "while wait != True:\n",
    "    print(wait)\n",
    "    # trying scroll to trigger and api call\n",
    "    try:\n",
    "        print('attempting Scroll!')\n",
    "        driver.execute_script(\"window.scrollTo(0, document.body.scrollHeight);\")\n",
    "        print('Scrolled...')\n",
    "        \n",
    "        # waiting for the api call to be included in the DOM  \n",
    "        wait = WebDriverWait(driver, 15).until(EC.text_to_be_present_in_element((By.ID, \"interceptedResponse\"), \"api_key\"))\n",
    "        \n",
    "    except Exception as e:\n",
    "        print(\"intercept failed!:\" + str(e))\n",
    "        \n",
    "    intercepts = driver.find_elements_by_id('interceptedResponse')\n",
    "    \n",
    "if wait == True:\n",
    "    print('ajax call intercepted!\\n')\n",
    "\n",
    "xhr_call = intercepts[0].text\n",
    "\n",
    "var_names = [\"api_key\", \"reqId\", \"api_url\", \"extras\"]\n",
    "re_expressions = [r\"(api_key)=([\\dabcdef]*)(&)\", r\"(reqId)=([\\dabcdef]*)(&)\", r\"(https:\\/\\/(\\w+\\.?)+(\\/\\w+)+)(\\?)\", r\"extras=((\\w+(%2)?)+?)?&\"]\n",
    "\n",
    "groups = [2,2,1,1]\n",
    "\n",
    "variables = [dict(zip([\"var_name\", \"regex\", 'group'], each)) for each in [each for each in zip(var_names, re_expressions, groups)]]\n",
    "\n",
    "for each in variables:\n",
    "    \n",
    "    if  re.search(each[\"regex\"], string=xhr_call, flags=re.MULTILINE) != None:\n",
    "        globals()[each[\"var_name\"]] = re.search(each[\"regex\"], string=xhr_call, flags=re.MULTILINE).group(each[\"group\"])\n",
    "    else:\n",
    "        globals()[each[\"var_name\"]] = None\n",
    "        \n",
    "extras = extras.replace('%2C', ',')\n",
    "\n",
    "print(\"Extracted ajax params:--------\\n\")\n",
    "for each in var_names:\n",
    "    print(\"%(var)s :     %(value)s\" % {\"var\": each.ljust(10, ' '), \"value\" : globals()[each]})\n",
    "\n",
    "\n",
    "photos_per_page = \"500\"\n",
    "additional_extras = \"url_o,original_format,date_taken,date_upload,geo\"\n",
    "\n",
    "privacy_filter ={\n",
    "    \"public photos\" : '1', \n",
    "    \"private photos visible to friends\" : '2',\n",
    "    \"private photos visible to family\" : '3',\n",
    "    \"private photos visible to friends & family\": '4',\n",
    "    \"completely private photos\" : '5'\n",
    "}\n",
    "\n",
    "\n",
    "\n",
    "global params\n",
    "params = {\n",
    "    \"sort\" : \"relevance\",\n",
    "    \"tags\" : 'clouds',\n",
    "    \"parse_tags\" : \"1\",\n",
    "    \"content_type\" : \"7\",\n",
    "    \"extras\" : extras + additional_extras,\n",
    "    \"per_page\" : photos_per_page,\n",
    "    \"page\" : 1,\n",
    "    \"lang\": \"en-US\",\n",
    "    \"has_geo\" :\"1\",\n",
    "    \"media\" : \"photos\",\n",
    "    \"view_all\" : \"1\",\n",
    "    \"text\" : \"clouds\",\n",
    "    \"viewerNSID\": \"\",\n",
    "    \"method\" : \"flickr.photos.search\",\n",
    "    \"csrf\" : \"\",\n",
    "    \"api_key\" : api_key,\n",
    "    \"format\" : \"json\",\n",
    "    \"hermes\" : \"1\",\n",
    "    \"hermesClient\" : \"1\",\n",
    "    \"reqId\" : reqId,\n",
    "    \"nojsoncallback\" : \"1\",\n",
    "    \"privacy_filter\" : privacy_filter['public photos'],\n",
    "    \"geo_context\": '2'\n",
    "}\n",
    "\n",
    "cookies = driver.get_cookies()\n",
    "\n",
    "#ua = UserAgent()\n",
    "\n",
    "with requests.sessions.Session() as s:\n",
    "    for cookie in cookies:\n",
    "        s.cookies.set(cookie['name'], cookie['value'])\n",
    "    #s.headers['User-Agent'] = str(ua.chrome)\n",
    "    response = s.get(api_url, params=params)\n",
    "\n",
    "json_data_path = './json_data/'\n",
    "photo_json = 'photos.json'\n",
    "scraped_ids = 'scraped_photos.txt'\n",
    "now = dt.now()\n",
    "days_offset = 3\n",
    "\n",
    "def change_date_range(index, offset=3):\n",
    "    params['min_upload_date'] = index - datetime.timedelta(days=offset)\n",
    "    params['max_upload_date'] = index\n",
    "\n",
    "change_date_range(now)\n",
    "\n",
    "params['tags'] = ''\n",
    "\n",
    "total_photos = s.get(api_url, params=params).json()['photos']['total']\n",
    "\n",
    "def find_best_date_range(total_photos, days_offset):\n",
    "    \n",
    "    print(f\"Finding a suitable range in 20 attempts or less ...\")\n",
    "    repeats = 0\n",
    "    #int(total_photos) <= 3990 or int(total_photos) > 4000\n",
    "    while (int(total_photos) != 4000) and not (int(total_photos) < 4000 and repeats > 20):\n",
    "        if int(total_photos) > 4000:\n",
    "            days_offset = days_offset * 4000/ int(total_photos)\n",
    "            params['min_upload_date'] = params['max_upload_date'] - datetime.timedelta(days_offset)\n",
    "            print(f\"({str(repeats)}): too many photos   ({total_photos.ljust(10, '+')}): new range from {params['min_upload_date']} to {params['max_upload_date']}\", end = '\\r')\n",
    "        if int(total_photos) <= 3990:\n",
    "            days_offset = days_offset * 3990 / int(total_photos)\n",
    "            params['min_upload_date'] = params['max_upload_date'] - datetime.timedelta(days_offset)\n",
    "            print(f\"({str(repeats)}): not enough photos ({total_photos.ljust(10, '-')}): new range from {params['min_upload_date']} to {params['max_upload_date']}\", end = '\\r')\n",
    "\n",
    "        params['per_page'] = 1\n",
    "        total_photos = s.get(api_url, params=params).json()['photos']['total']\n",
    "        repeats += 1\n",
    "    print('\\n')\n",
    "    print(total_photos)\n",
    "\n",
    "\n",
    "\n",
    "for term in TAGS:\n",
    "    \n",
    "    params['text'] = term\n",
    "        \n",
    "    while params['min_upload_date'].timestamp() >= 1483228800 :\n",
    "        change_date_range(now, days_offset)\n",
    "        print(\"__________________________\")\n",
    "        print(f\"New date range: {params['min_upload_date']} to {params['max_upload_date']}______ total photos : {total_photos}\")\n",
    "        \n",
    "        total_photos = s.get(api_url, params=params).json()['photos']['total']\n",
    "        print(f\"Total photos in next batch: {total_photos}\")\n",
    "        \n",
    "        find_best_date_range(total_photos, days_offset)     \n",
    "        total_photos = s.get(api_url, params=params).json()['photos']['total']\n",
    "        print(f'starting json dump... (photos per request: {total_photos})')\n",
    "\n",
    "        for page in range(1, 9):\n",
    "            print(f\"getting page {page}...\")\n",
    "            print('sleeping', end = '\\r')\n",
    "            time.sleep(random.randrange(5000, 15000)/ 1000)\n",
    "\n",
    "            params['page'] = page\n",
    "            params['per_page'] = photos_per_page\n",
    "            \n",
    "            response = s.get(api_url, params=params)\n",
    "            path = f\"{json_data_path}{term}_{str(params['min_upload_date'].timestamp())}-{str(params['max_upload_date'].timestamp())}_{page}.json\"\n",
    "            try:\n",
    "                with open(path, 'w') as outfile:\n",
    "                    json.dump(response.json(), outfile)\n",
    "                print(f\"{path} written succesfully!\")\n",
    "            except Exception as e:\n",
    "                print(f\"problem dumping json data: {str(e)}\")\n",
    "        time.sleep(random.randrange(10000, 25000)/ 1000)\n",
    "\n",
    "    time.sleep(random.randrange(40000, 70000)/ 1000)"
   ]
  },
  {
   "cell_type": "code",
   "execution_count": 7,
   "metadata": {},
   "outputs": [
    {
     "data": {
      "text/plain": [
       "[1, 2, 3, 4, 5, 6, 7, 8]"
      ]
     },
     "execution_count": 7,
     "metadata": {},
     "output_type": "execute_result"
    }
   ],
   "source": [
    "[each for each in range(1, 9)]"
   ]
  },
  {
   "cell_type": "code",
   "execution_count": 13,
   "metadata": {},
   "outputs": [
    {
     "data": {
      "text/plain": [
       "'2019-12-26 08:08:45'"
      ]
     },
     "execution_count": 13,
     "metadata": {},
     "output_type": "execute_result"
    }
   ],
   "source": [
    "now = datetime.datetime.now()\n",
    "now.strftime('%Y-%m-%d %H:%M:%S')"
   ]
  },
  {
   "cell_type": "code",
   "execution_count": 17,
   "metadata": {},
   "outputs": [],
   "source": [
    "images = response.json()['photos']['photo']"
   ]
  },
  {
   "cell_type": "code",
   "execution_count": 7,
   "metadata": {},
   "outputs": [
    {
     "data": {
      "text/plain": [
       "dict_keys(['page', 'pages', 'perpage', 'total', 'photo', 'max_allowed_results', 'max_allowed_pages'])"
      ]
     },
     "execution_count": 7,
     "metadata": {},
     "output_type": "execute_result"
    }
   ],
   "source": [
    "response.json()['photos'].keys()"
   ]
  },
  {
   "cell_type": "code",
   "execution_count": 9,
   "metadata": {},
   "outputs": [
    {
     "data": {
      "text/plain": [
       "'0'"
      ]
     },
     "execution_count": 9,
     "metadata": {},
     "output_type": "execute_result"
    }
   ],
   "source": [
    "response.json()['photos']['total']"
   ]
  },
  {
   "cell_type": "code",
   "execution_count": 53,
   "metadata": {},
   "outputs": [],
   "source": [
    "def get_link_from_Id(img_id, size = 'o'):\n",
    "    image = [image for image in images if image['id'] == img_id]\n",
    "    assert len(image) == 1, (f\"More than one image have the id '{img_id}'\")\n",
    "    if size == 'o':\n",
    "        assert image[0].get('originalsecret') != None, f\"The image with the id '{img_id}' does not have and original size secret\"\n",
    "        return f\"https://farm{image[0]['farm']}.staticflickr.com/{image[0]['server']}/{img_id}_{image[0]['originalsecret']}_o.{image[0]['originalformat']}\"\n",
    "    else:\n",
    "        return f\"https://farm{image[0]['farm']}.staticflickr.com/{image[0]['server']}/{img_id}_{image[0]['secret']}_{size}.jpg\""
   ]
  },
  {
   "cell_type": "code",
   "execution_count": 56,
   "metadata": {},
   "outputs": [
    {
     "data": {
      "text/plain": [
       "'https://farm3.staticflickr.com/2499/3863384442_4739162827_b.jpg'"
      ]
     },
     "execution_count": 56,
     "metadata": {},
     "output_type": "execute_result"
    }
   ],
   "source": [
    "get_link_from_Id('3863384442', 'b')"
   ]
  },
  {
   "cell_type": "code",
   "execution_count": 14,
   "metadata": {},
   "outputs": [
    {
     "data": {
      "text/plain": [
       "'https://flickr.com/search/?has_geo=1&media=photos&view_all=1&text=clouds'"
      ]
     },
     "execution_count": 14,
     "metadata": {},
     "output_type": "execute_result"
    }
   ],
   "source": [
    "url"
   ]
  },
  {
   "cell_type": "code",
   "execution_count": 60,
   "metadata": {},
   "outputs": [
    {
     "data": {
      "text/plain": [
       "2"
      ]
     },
     "execution_count": 60,
     "metadata": {},
     "output_type": "execute_result"
    }
   ],
   "source": [
    "random.randint(2, 6)"
   ]
  },
  {
   "cell_type": "code",
   "execution_count": 33,
   "metadata": {},
   "outputs": [
    {
     "ename": "NameError",
     "evalue": "name 'images' is not defined",
     "output_type": "error",
     "traceback": [
      "\u001b[0;31m---------------------------------------------------------------------------\u001b[0m",
      "\u001b[0;31mNameError\u001b[0m                                 Traceback (most recent call last)",
      "\u001b[0;32m<ipython-input-33-47d5aa01b40e>\u001b[0m in \u001b[0;36m<module>\u001b[0;34m\u001b[0m\n\u001b[0;32m----> 1\u001b[0;31m \u001b[0mrandom\u001b[0m\u001b[0;34m.\u001b[0m\u001b[0mchoice\u001b[0m\u001b[0;34m(\u001b[0m\u001b[0;34m[\u001b[0m\u001b[0mimg\u001b[0m \u001b[0;32mfor\u001b[0m \u001b[0mimg\u001b[0m \u001b[0;32min\u001b[0m \u001b[0mimages\u001b[0m \u001b[0;32mif\u001b[0m \u001b[0mimg\u001b[0m\u001b[0;34m.\u001b[0m\u001b[0mget\u001b[0m\u001b[0;34m(\u001b[0m\u001b[0;34m'originalsecret'\u001b[0m\u001b[0;34m)\u001b[0m \u001b[0;34m==\u001b[0m \u001b[0;32mNone\u001b[0m\u001b[0;34m]\u001b[0m\u001b[0;34m)\u001b[0m\u001b[0;34m\u001b[0m\u001b[0;34m\u001b[0m\u001b[0m\n\u001b[0m",
      "\u001b[0;31mNameError\u001b[0m: name 'images' is not defined"
     ]
    }
   ],
   "source": [
    "random.choice([img for img in images if img.get('originalsecret') == None])"
   ]
  },
  {
   "cell_type": "code",
   "execution_count": 66,
   "metadata": {},
   "outputs": [],
   "source": [
    "before = dt.now().timestamp()"
   ]
  },
  {
   "cell_type": "code",
   "execution_count": 69,
   "metadata": {},
   "outputs": [],
   "source": [
    "after =dt.now().timestamp()"
   ]
  },
  {
   "cell_type": "code",
   "execution_count": 70,
   "metadata": {},
   "outputs": [
    {
     "data": {
      "text/plain": [
       "12.318365812301636"
      ]
     },
     "execution_count": 70,
     "metadata": {},
     "output_type": "execute_result"
    }
   ],
   "source": [
    "after - before"
   ]
  },
  {
   "cell_type": "code",
   "execution_count": null,
   "metadata": {},
   "outputs": [],
   "source": []
  },
  {
   "cell_type": "code",
   "execution_count": 197,
   "metadata": {},
   "outputs": [],
   "source": [
    "pre = driver.find_elements_by_xpath('/html/body/pre')\n",
    "from pprint import pprint as pp"
   ]
  },
  {
   "cell_type": "code",
   "execution_count": 194,
   "metadata": {},
   "outputs": [],
   "source": [
    "data = dict(json.loads(pre[0].text))"
   ]
  },
  {
   "cell_type": "code",
   "execution_count": 199,
   "metadata": {},
   "outputs": [
    {
     "name": "stdout",
     "output_type": "stream",
     "text": [
      "10205\n"
     ]
    }
   ],
   "source": [
    "pp(data['photos']['pages'])"
   ]
  },
  {
   "cell_type": "code",
   "execution_count": null,
   "metadata": {},
   "outputs": [],
   "source": []
  },
  {
   "cell_type": "code",
   "execution_count": null,
   "metadata": {},
   "outputs": [],
   "source": []
  },
  {
   "cell_type": "code",
   "execution_count": null,
   "metadata": {},
   "outputs": [],
   "source": []
  },
  {
   "cell_type": "code",
   "execution_count": null,
   "metadata": {},
   "outputs": [],
   "source": []
  },
  {
   "cell_type": "code",
   "execution_count": 124,
   "metadata": {},
   "outputs": [
    {
     "data": {
      "text/plain": [
       "['s_tp:7940']"
      ]
     },
     "execution_count": 124,
     "metadata": {},
     "output_type": "execute_result"
    }
   ],
   "source": [
    "[each['name']+':'  + each['value'] for each in cookies if each['name'] == 's_tp']"
   ]
  },
  {
   "cell_type": "code",
   "execution_count": 145,
   "metadata": {},
   "outputs": [],
   "source": [
    "response = s.get(api_url, params=params)"
   ]
  },
  {
   "cell_type": "code",
   "execution_count": 146,
   "metadata": {},
   "outputs": [
    {
     "data": {
      "text/plain": [
       "dict_keys(['id', 'owner', 'secret', 'server', 'farm', 'title', 'ispublic', 'isfriend', 'isfamily', 'safe'])"
      ]
     },
     "execution_count": 146,
     "metadata": {},
     "output_type": "execute_result"
    }
   ],
   "source": [
    "response.json()['photos']['photo'][0].keys()"
   ]
  },
  {
   "cell_type": "code",
   "execution_count": null,
   "metadata": {},
   "outputs": [],
   "source": []
  },
  {
   "cell_type": "code",
   "execution_count": null,
   "metadata": {},
   "outputs": [],
   "source": []
  },
  {
   "cell_type": "code",
   "execution_count": 140,
   "metadata": {},
   "outputs": [],
   "source": [
    "driver.quit()"
   ]
  },
  {
   "cell_type": "code",
   "execution_count": 141,
   "metadata": {},
   "outputs": [],
   "source": [
    "browser.quit()"
   ]
  },
  {
   "cell_type": "code",
   "execution_count": 18,
   "metadata": {},
   "outputs": [],
   "source": [
    "img = response.json()['photos']['photo'][0]"
   ]
  },
  {
   "cell_type": "code",
   "execution_count": 19,
   "metadata": {},
   "outputs": [
    {
     "data": {
      "text/plain": [
       "{'id': '8966548467',\n",
       " 'owner': '36587311@N08',\n",
       " 'secret': '312f2ed006',\n",
       " 'server': '3792',\n",
       " 'farm': 4,\n",
       " 'title': 'cloud',\n",
       " 'ispublic': 1,\n",
       " 'isfriend': 0,\n",
       " 'isfamily': 0,\n",
       " 'safe': 0}"
      ]
     },
     "execution_count": 19,
     "metadata": {},
     "output_type": "execute_result"
    }
   ],
   "source": [
    "img"
   ]
  },
  {
   "cell_type": "code",
   "execution_count": 20,
   "metadata": {},
   "outputs": [],
   "source": [
    "link = f\"https://farm{img['farm']}.staticflickr.com/{img['server']}/{img['id']}_{img['secret']}_o.png\" "
   ]
  },
  {
   "cell_type": "code",
   "execution_count": null,
   "metadata": {},
   "outputs": [],
   "source": [
    "https://farm{farm-id}.staticflickr.com/{server-id}/{id}_{o-secret}_o.(jpg|gif|png)"
   ]
  },
  {
   "cell_type": "code",
   "execution_count": 21,
   "metadata": {},
   "outputs": [
    {
     "data": {
      "text/plain": [
       "'https://farm4.staticflickr.com/3792/8966548467_312f2ed006_o.png'"
      ]
     },
     "execution_count": 21,
     "metadata": {},
     "output_type": "execute_result"
    }
   ],
   "source": [
    "link"
   ]
  },
  {
   "cell_type": "code",
   "execution_count": null,
   "metadata": {},
   "outputs": [],
   "source": []
  },
  {
   "cell_type": "code",
   "execution_count": null,
   "metadata": {},
   "outputs": [],
   "source": []
  },
  {
   "cell_type": "code",
   "execution_count": null,
   "metadata": {},
   "outputs": [],
   "source": []
  },
  {
   "cell_type": "code",
   "execution_count": null,
   "metadata": {},
   "outputs": [],
   "source": []
  },
  {
   "cell_type": "code",
   "execution_count": 12,
   "metadata": {},
   "outputs": [],
   "source": [
    "parsed_url = api_url+\"?\"+\"&\".join([\"=\".join([each , params[each]]) for each in params])"
   ]
  },
  {
   "cell_type": "code",
   "execution_count": 46,
   "metadata": {},
   "outputs": [],
   "source": [
    "browser = webdriver.Firefox()"
   ]
  },
  {
   "cell_type": "code",
   "execution_count": 47,
   "metadata": {},
   "outputs": [],
   "source": [
    "browser.get(parsed_url)"
   ]
  },
  {
   "cell_type": "code",
   "execution_count": 45,
   "metadata": {},
   "outputs": [],
   "source": [
    "browser.quit()"
   ]
  },
  {
   "cell_type": "code",
   "execution_count": 13,
   "metadata": {},
   "outputs": [],
   "source": [
    "script = f\"window.open('{parsed_url}')\""
   ]
  },
  {
   "cell_type": "code",
   "execution_count": null,
   "metadata": {},
   "outputs": [],
   "source": [
    "browser.execute_script(script)"
   ]
  },
  {
   "cell_type": "code",
   "execution_count": 154,
   "metadata": {},
   "outputs": [],
   "source": [
    "ext = \"date_upload, date_taken, owner_name, icon_server, original_format, last_update, geo, tags, machine_tags, o_dims, views, media, path_alias, url_sq, url_t, url_s, url_q, url_m, url_n, url_z, url_c, url_l, url_o\""
   ]
  },
  {
   "cell_type": "code",
   "execution_count": 155,
   "metadata": {},
   "outputs": [],
   "source": [
    "ext = [each.strip() for each in ext.split(',')]"
   ]
  },
  {
   "cell_type": "code",
   "execution_count": null,
   "metadata": {},
   "outputs": [],
   "source": []
  },
  {
   "cell_type": "code",
   "execution_count": null,
   "metadata": {},
   "outputs": [],
   "source": []
  },
  {
   "cell_type": "code",
   "execution_count": null,
   "metadata": {},
   "outputs": [],
   "source": []
  },
  {
   "cell_type": "code",
   "execution_count": null,
   "metadata": {},
   "outputs": [],
   "source": []
  },
  {
   "cell_type": "code",
   "execution_count": null,
   "metadata": {},
   "outputs": [],
   "source": []
  },
  {
   "cell_type": "code",
   "execution_count": null,
   "metadata": {},
   "outputs": [],
   "source": []
  },
  {
   "cell_type": "code",
   "execution_count": null,
   "metadata": {},
   "outputs": [],
   "source": [
    "try:\n",
    "    elements = driver.find_elements_by_xpath('//a[@class=\"overlay\"]')\n",
    "    num_elements = len(elements)\n",
    "    print(num_elements)\n",
    "except Exception as e:\n",
    "    print('Error getting elements:' + str(e))"
   ]
  },
  {
   "cell_type": "code",
   "execution_count": null,
   "metadata": {},
   "outputs": [],
   "source": []
  },
  {
   "cell_type": "code",
   "execution_count": null,
   "metadata": {},
   "outputs": [],
   "source": [
    "elem= elements[0]"
   ]
  },
  {
   "cell_type": "code",
   "execution_count": null,
   "metadata": {},
   "outputs": [],
   "source": [
    "elements[0].get_property('attributes')"
   ]
  },
  {
   "cell_type": "code",
   "execution_count": null,
   "metadata": {},
   "outputs": [],
   "source": [
    "for element in elements:\n",
    "    print(element.get_attribute('href'))"
   ]
  },
  {
   "cell_type": "code",
   "execution_count": null,
   "metadata": {},
   "outputs": [],
   "source": []
  },
  {
   "cell_type": "code",
   "execution_count": null,
   "metadata": {},
   "outputs": [],
   "source": [
    "def exif(action):\n",
    "    exif = driver.find_element_by_link_text(action)\n",
    "    exif.click()\n",
    "    return"
   ]
  },
  {
   "cell_type": "code",
   "execution_count": null,
   "metadata": {},
   "outputs": [],
   "source": [
    "elem  = driver.find_element_by_xpath('//a[@id=\"yui_3_16_0_1_1576995420623_60055\"]')"
   ]
  },
  {
   "cell_type": "code",
   "execution_count": null,
   "metadata": {},
   "outputs": [],
   "source": [
    "elem.send_keys(Keys.COMMAND + Keys.RETURN)\n"
   ]
  },
  {
   "cell_type": "code",
   "execution_count": null,
   "metadata": {},
   "outputs": [],
   "source": [
    "tab = driver.find_element_by_tag_name('body')\n",
    "tab.send_keys(Keys.COMMAND + \"t\")"
   ]
  },
  {
   "cell_type": "code",
   "execution_count": null,
   "metadata": {},
   "outputs": [],
   "source": [
    "\n"
   ]
  },
  {
   "cell_type": "code",
   "execution_count": null,
   "metadata": {},
   "outputs": [],
   "source": [
    "SHOW = \"Show EXIF\"\n",
    "HIDE = \"Hide EXIF\""
   ]
  },
  {
   "cell_type": "code",
   "execution_count": null,
   "metadata": {},
   "outputs": [],
   "source": [
    "exif(SHOW)"
   ]
  },
  {
   "cell_type": "code",
   "execution_count": null,
   "metadata": {},
   "outputs": [],
   "source": [
    "exif(HIDE)"
   ]
  },
  {
   "cell_type": "code",
   "execution_count": null,
   "metadata": {},
   "outputs": [],
   "source": [
    "main_window = driver.current_window_handle"
   ]
  },
  {
   "cell_type": "code",
   "execution_count": null,
   "metadata": {},
   "outputs": [],
   "source": []
  },
  {
   "cell_type": "code",
   "execution_count": null,
   "metadata": {},
   "outputs": [],
   "source": [
    "driver.execute_script(\"window.scrollTo(0, document.body.scrollHeight);\")"
   ]
  },
  {
   "cell_type": "code",
   "execution_count": null,
   "metadata": {},
   "outputs": [],
   "source": []
  },
  {
   "cell_type": "code",
   "execution_count": null,
   "metadata": {},
   "outputs": [],
   "source": [
    "scrpt = ['window.open(\"', page2_scroll, '\");']"
   ]
  },
  {
   "cell_type": "code",
   "execution_count": null,
   "metadata": {},
   "outputs": [],
   "source": [
    "driver.find_element_by_tag_name('body').send_keys(Keys.COMMAND + 't') "
   ]
  },
  {
   "cell_type": "code",
   "execution_count": null,
   "metadata": {},
   "outputs": [],
   "source": [
    "driver.execute_script(\"\".join(scrpt))"
   ]
  },
  {
   "cell_type": "code",
   "execution_count": null,
   "metadata": {},
   "outputs": [],
   "source": [
    "driver.execute_script('window.open(\"\")')"
   ]
  },
  {
   "cell_type": "code",
   "execution_count": null,
   "metadata": {},
   "outputs": [],
   "source": [
    "new_tab = [tab for tab in driver.window_handles if tab != main_window][0]"
   ]
  },
  {
   "cell_type": "code",
   "execution_count": null,
   "metadata": {},
   "outputs": [],
   "source": [
    "driver.switch_to.window(new_tab)"
   ]
  },
  {
   "cell_type": "code",
   "execution_count": null,
   "metadata": {},
   "outputs": [],
   "source": [
    "driver.get(\"https://www.google.com\")"
   ]
  },
  {
   "cell_type": "code",
   "execution_count": null,
   "metadata": {},
   "outputs": [],
   "source": [
    "driver.close()"
   ]
  },
  {
   "cell_type": "code",
   "execution_count": null,
   "metadata": {},
   "outputs": [],
   "source": [
    "driver.current_window_handle"
   ]
  },
  {
   "cell_type": "code",
   "execution_count": null,
   "metadata": {},
   "outputs": [],
   "source": [
    "driver.quit()"
   ]
  },
  {
   "cell_type": "code",
   "execution_count": null,
   "metadata": {},
   "outputs": [],
   "source": []
  },
  {
   "cell_type": "code",
   "execution_count": null,
   "metadata": {},
   "outputs": [],
   "source": []
  },
  {
   "cell_type": "code",
   "execution_count": null,
   "metadata": {},
   "outputs": [],
   "source": []
  }
 ],
 "metadata": {
  "kernelspec": {
   "display_name": "Python 3",
   "language": "python",
   "name": "python3"
  },
  "language_info": {
   "codemirror_mode": {
    "name": "ipython",
    "version": 3
   },
   "file_extension": ".py",
   "mimetype": "text/x-python",
   "name": "python",
   "nbconvert_exporter": "python",
   "pygments_lexer": "ipython3",
   "version": "3.7.4"
  }
 },
 "nbformat": 4,
 "nbformat_minor": 4
}
