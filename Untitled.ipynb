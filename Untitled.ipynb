{
 "cells": [
  {
   "cell_type": "code",
   "execution_count": 50,
   "metadata": {},
   "outputs": [],
   "source": [
    "import time\n",
    "from selenium import webdriver\n",
    "from selenium.webdriver.chrome.options import Options\n",
    "from selenium.webdriver.common.keys import Keys\n",
    "from selenium.webdriver.common.desired_capabilities import DesiredCapabilities\n",
    "from selenium.webdriver.support.ui import WebDriverWait\n",
    "from selenium.webdriver.common.by import By\n",
    "from selenium.webdriver.support import expected_conditions as EC\n",
    "import json, itertools, re, requests, random\n",
    "from fake_useragent import UserAgent"
   ]
  },
  {
   "cell_type": "code",
   "execution_count": 51,
   "metadata": {},
   "outputs": [
    {
     "name": "stdout",
     "output_type": "stream",
     "text": [
      "title : \"Search: clouds | Flickr\"\n",
      "Getting AJAX data...\n",
      "attempting Scroll!\n",
      "Scrolled...\n",
      "ajax call intercepted!\n",
      "\n",
      "Extracted ajax params:--------\n",
      "\n",
      "api_key    :     59c1c3c5f49bc51ec55cb7076e2a6432\n",
      "reqId      :     03289800\n",
      "api_url    :     https://api.flickr.com/services/rest\n",
      "extras     :     can_comment,count_comments,count_faves,description,isfavorite,license,media,needs_interstitial,owner_name,path_alias,realname,rotation,url_sq,url_q,url_t,url_s,url_n,url_w,url_m,url_z,url_c,url_l\n"
     ]
    }
   ],
   "source": [
    "options = Options()\n",
    "\n",
    "options.add_argument('--headless')\n",
    "\n",
    "FLICKR = 'https://flickr.com/search/'\n",
    "TAGS = ['clouds', 'cloud', 'sky', 'storm', 'weather']\n",
    "\n",
    "caps = DesiredCapabilities.CHROME\n",
    "caps['loggingPref'] = {'performance': 'ALL'}\n",
    "\n",
    "xhrCallIntercept_js = \"\"\"\n",
    "(function(XHR) {\n",
    "  \"use strict\";\n",
    "\n",
    "  var element = document.createElement('div');\n",
    "  element.id = \"interceptedResponse\";\n",
    "  element.appendChild(document.createTextNode(\"\"));\n",
    "  document.body.appendChild(element);\n",
    "\n",
    "  var open = XHR.prototype.open;\n",
    "  var send = XHR.prototype.send;\n",
    "\n",
    "  XHR.prototype.open = function(method, url, async, user, pass) {\n",
    "    this._url = url; // want to track the url requested\n",
    "    open.call(this, method, url, async, user, pass);\n",
    "  };\n",
    "\n",
    "  XHR.prototype.send = function(data) {\n",
    "    var self = this;\n",
    "    var oldOnReadyStateChange;\n",
    "    var url = this._url;\n",
    "\n",
    "    function onReadyStateChange() {\n",
    "      if(self.status === 200 && self.readyState == 4 /* complete */) {\n",
    "        document.getElementById(\"interceptedResponse\").innerHTML +=\n",
    "          '{\"data\":' + self._url + ', \"headers\" :' + self.headers + ' }*****';\n",
    "      }\n",
    "      if(oldOnReadyStateChange) {\n",
    "        oldOnReadyStateChange();\n",
    "      }\n",
    "    }\n",
    "\n",
    "    if(this.addEventListener) {\n",
    "      this.addEventListener(\"readystatechange\", onReadyStateChange,\n",
    "        false);\n",
    "    } else {\n",
    "      oldOnReadyStateChange = this.onreadystatechange;\n",
    "      this.onreadystatechange = onReadyStateChange;\n",
    "    }\n",
    "    send.call(this, data);\n",
    "  }\n",
    "})(XMLHttpRequest);\n",
    "\"\"\"\n",
    "\n",
    "driver = webdriver.Chrome(options = options, desired_capabilities=caps)\n",
    "\n",
    "try:\n",
    "    url = FLICKR + \"?has_geo=1&media=photos&view_all=1&text=\" + TAGS[0]\n",
    "    \n",
    "    driver.get(url)\n",
    "    driver.execute_script(xhrCallIntercept_js)\n",
    "\n",
    "    print('title : \"{}\"'.format(driver.title))\n",
    "\n",
    "    time.sleep(5)\n",
    "\n",
    "except Exception as e:\n",
    "    print('Error: ' + str(e))\n",
    "\n",
    "wait = \"Getting AJAX data...\"\n",
    "while wait != True:\n",
    "    print(wait)\n",
    "    # trying scroll to trigger and api call\n",
    "    try:\n",
    "        print('attempting Scroll!')\n",
    "        driver.execute_script(\"window.scrollTo(0, document.body.scrollHeight);\")\n",
    "        print('Scrolled...')\n",
    "        \n",
    "        # waiting for the api call to be included in the DOM  \n",
    "        wait = WebDriverWait(driver, 15).until(EC.text_to_be_present_in_element((By.ID, \"interceptedResponse\"), \"api_key\"))\n",
    "        \n",
    "    except Exception as e:\n",
    "        print(\"intercept failed!:\" + str(e))\n",
    "        \n",
    "    intercepts = driver.find_elements_by_id('interceptedResponse')\n",
    "    \n",
    "if wait == True:\n",
    "    print('ajax call intercepted!\\n')\n",
    "\n",
    "xhr_call = intercepts[0].text\n",
    "\n",
    "var_names = [\"api_key\", \"reqId\", \"api_url\", \"extras\"]\n",
    "re_expressions = [r\"(api_key)=([\\dabcdef]*)(&)\", r\"(reqId)=([\\dabcdef]*)(&)\", r\"(https:\\/\\/(\\w+\\.?)+(\\/\\w+)+)(\\?)\", r\"extras=((\\w+(%2)?)+?)?&\"]\n",
    "\n",
    "groups = [2,2,1,1]\n",
    "\n",
    "variables = [dict(zip([\"var_name\", \"regex\", 'group'], each)) for each in [each for each in zip(var_names, re_expressions, groups)]]\n",
    "\n",
    "for each in variables:\n",
    "    \n",
    "    if  re.search(each[\"regex\"], string=xhr_call, flags=re.MULTILINE) != None:\n",
    "        globals()[each[\"var_name\"]] = re.search(each[\"regex\"], string=xhr_call, flags=re.MULTILINE).group(each[\"group\"])\n",
    "    else:\n",
    "        globals()[each[\"var_name\"]] = None\n",
    "        \n",
    "extras = extras.replace('%2C', ',')\n",
    "\n",
    "print(\"Extracted ajax params:--------\\n\")\n",
    "for each in var_names:\n",
    "    print(\"%(var)s :     %(value)s\" % {\"var\": each.ljust(10, ' '), \"value\" : globals()[each]})\n",
    "\n",
    "\n",
    "photos_per_page = \"500\"\n",
    "page = \"1\"\n",
    "additional_extras = \"url_o,original_format,date_taken,date_upload,geo\"\n",
    "\n",
    "privacy_filter ={\n",
    "    \"public photos\" : '1', \n",
    "    \"private photos visible to friends\" : '2',\n",
    "    \"private photos visible to family\" : '3',\n",
    "    \"private photos visible to friends & family\": '4',\n",
    "    \"completely private photos\" : '5'\n",
    "}\n",
    "\n",
    "\n",
    "min_upload_date = ''\n",
    "max_upload_date = ''\n",
    "\n",
    "\n",
    "params = {\n",
    "    \"sort\" : \"relevance\",\n",
    "    \"parse_tags\" : \"1\",\n",
    "    \"content_type\" : \"7\",\n",
    "    \"extras\" : extras + additional_extras,\n",
    "    \"per_page\" : photos_per_page,\n",
    "    \"page\" : page,\n",
    "    \"lang\": \"en-US\",\n",
    "    \"has_geo\" :\"1\",\n",
    "    \"media\" : \"photos\",\n",
    "    \"view_all\" : \"1\",\n",
    "    \"text\" : \"clouds\",\n",
    "    \"viewerNSID\": \"\",\n",
    "    \"method\" : \"flickr.photos.search\",\n",
    "    \"csrf\" : \"\",\n",
    "    \"api_key\" : api_key,\n",
    "    \"format\" : \"json\",\n",
    "    \"hermes\" : \"1\",\n",
    "    \"hermesClient\" : \"1\",\n",
    "    \"reqId\" : reqId,\n",
    "    \"nojsoncallback\" : \"1\",\n",
    "    \"min_upload_date\" : min_upload_date,\n",
    "    \"max_upload_date\" : max_upload_date,\n",
    "    \"privacy_filter\" : privacy_filter['public photos'],\n",
    "    \"geo_context\": '2'\n",
    "}\n",
    "\n",
    "cookies = driver.get_cookies()\n",
    "\n",
    "#ua = UserAgent()\n",
    "\n",
    "with requests.sessions.Session() as s:\n",
    "    for cookie in cookies:\n",
    "        s.cookies.set(cookie['name'], cookie['value'])\n",
    "    #s.headers['User-Agent'] = str(ua.chrome)\n",
    "    response = s.get(api_url, params=params)"
   ]
  },
  {
   "cell_type": "code",
   "execution_count": 52,
   "metadata": {},
   "outputs": [],
   "source": [
    "images = response.json()['photos']['photo']"
   ]
  },
  {
   "cell_type": "code",
   "execution_count": null,
   "metadata": {},
   "outputs": [],
   "source": []
  },
  {
   "cell_type": "code",
   "execution_count": 53,
   "metadata": {},
   "outputs": [],
   "source": [
    "def get_link_from_Id(img_id, size = 'o'):\n",
    "    image = [image for image in images if image['id'] == img_id]\n",
    "    assert len(image) == 1, (f\"More than one image have the id '{img_id}'\")\n",
    "    if size == 'o':\n",
    "        assert image[0].get('originalsecret') != None, f\"The image with the id '{img_id}' does not have and original size secret\"\n",
    "        return f\"https://farm{image[0]['farm']}.staticflickr.com/{image[0]['server']}/{img_id}_{image[0]['originalsecret']}_o.{image[0]['originalformat']}\"\n",
    "    else:\n",
    "        return f\"https://farm{image[0]['farm']}.staticflickr.com/{image[0]['server']}/{img_id}_{image[0]['secret']}_{size}.jpg\""
   ]
  },
  {
   "cell_type": "code",
   "execution_count": 56,
   "metadata": {},
   "outputs": [
    {
     "data": {
      "text/plain": [
       "'https://farm3.staticflickr.com/2499/3863384442_4739162827_b.jpg'"
      ]
     },
     "execution_count": 56,
     "metadata": {},
     "output_type": "execute_result"
    }
   ],
   "source": [
    "get_link_from_Id('3863384442', 'b')"
   ]
  },
  {
   "cell_type": "code",
   "execution_count": null,
   "metadata": {},
   "outputs": [],
   "source": []
  },
  {
   "cell_type": "code",
   "execution_count": null,
   "metadata": {},
   "outputs": [],
   "source": []
  },
  {
   "cell_type": "code",
   "execution_count": 20,
   "metadata": {},
   "outputs": [
    {
     "data": {
      "text/plain": [
       "{'id': '3863384442',\n",
       " 'owner': '20927506@N07',\n",
       " 'secret': '4739162827',\n",
       " 'server': '2499',\n",
       " 'farm': 3,\n",
       " 'title': 'Clouds',\n",
       " 'ispublic': 1,\n",
       " 'isfriend': 0,\n",
       " 'isfamily': 0,\n",
       " 'safe': 0,\n",
       " 'license': '0',\n",
       " 'needs_interstitial': 0,\n",
       " 'description': {'_content': 'Then all of sudden I spotted this moving around. '},\n",
       " 'rotation': 0,\n",
       " 'dateupload': '1251410298',\n",
       " 'datetaken': '2009-06-27 03:51:25',\n",
       " 'datetakengranularity': '0',\n",
       " 'datetakenunknown': 0,\n",
       " 'ownername': 'berrywine',\n",
       " 'realname': 'Claudia',\n",
       " 'count_faves': '1',\n",
       " 'count_comments': '2',\n",
       " 'can_comment': 0,\n",
       " 'permissions': {'permcomment': 3},\n",
       " 'latitude': '39.819991',\n",
       " 'longitude': '-105.066418',\n",
       " 'accuracy': '14',\n",
       " 'context': 0,\n",
       " 'place_id': 'Sidc07tTUb_VBDsU',\n",
       " 'woeid': '2356381',\n",
       " 'geo_is_family': 0,\n",
       " 'geo_is_friend': 0,\n",
       " 'geo_is_contact': 0,\n",
       " 'geo_is_public': 1,\n",
       " 'media': 'photo',\n",
       " 'media_status': 'ready',\n",
       " 'url_sq': 'https://live.staticflickr.com/2499/3863384442_4739162827_s.jpg',\n",
       " 'url_sq_cdn': 'https://live.staticflickr.com/2499/3863384442_4739162827_s.jpg',\n",
       " 'height_sq': 75,\n",
       " 'width_sq': 75,\n",
       " 'url_q': 'https://live.staticflickr.com/2499/3863384442_4739162827_q.jpg',\n",
       " 'url_q_cdn': 'https://live.staticflickr.com/2499/3863384442_4739162827_q.jpg',\n",
       " 'height_q': 150,\n",
       " 'width_q': 150,\n",
       " 'url_t': 'https://live.staticflickr.com/2499/3863384442_4739162827_t.jpg',\n",
       " 'url_t_cdn': 'https://live.staticflickr.com/2499/3863384442_4739162827_t.jpg',\n",
       " 'height_t': 75,\n",
       " 'width_t': 100,\n",
       " 'url_s': 'https://live.staticflickr.com/2499/3863384442_4739162827_m.jpg',\n",
       " 'url_s_cdn': 'https://live.staticflickr.com/2499/3863384442_4739162827_m.jpg',\n",
       " 'height_s': 180,\n",
       " 'width_s': 240,\n",
       " 'url_n': 'https://live.staticflickr.com/2499/3863384442_4739162827_n.jpg',\n",
       " 'url_n_cdn': 'https://live.staticflickr.com/2499/3863384442_4739162827_n.jpg',\n",
       " 'height_n': 240,\n",
       " 'width_n': 320,\n",
       " 'url_w': 'https://live.staticflickr.com/2499/3863384442_4739162827_w.jpg',\n",
       " 'url_w_cdn': 'https://live.staticflickr.com/2499/3863384442_4739162827_w.jpg',\n",
       " 'height_w': 300,\n",
       " 'width_w': 400,\n",
       " 'url_m': 'https://live.staticflickr.com/2499/3863384442_4739162827.jpg',\n",
       " 'url_m_cdn': 'https://live.staticflickr.com/2499/3863384442_4739162827.jpg',\n",
       " 'height_m': 375,\n",
       " 'width_m': 500,\n",
       " 'url_z': 'https://live.staticflickr.com/2499/3863384442_4739162827_z.jpg',\n",
       " 'url_z_cdn': 'https://live.staticflickr.com/2499/3863384442_4739162827_z.jpg',\n",
       " 'height_z': 480,\n",
       " 'width_z': 640,\n",
       " 'url_c': 'https://live.staticflickr.com/2499/3863384442_4739162827_c.jpg',\n",
       " 'url_c_cdn': 'https://live.staticflickr.com/2499/3863384442_4739162827_c.jpg',\n",
       " 'height_c': 600,\n",
       " 'width_c': 800,\n",
       " 'pathalias': None}"
      ]
     },
     "execution_count": 20,
     "metadata": {},
     "output_type": "execute_result"
    }
   ],
   "source": [
    "random.choice([img for img in images if img.get('originalsecret') == None])"
   ]
  },
  {
   "cell_type": "code",
   "execution_count": null,
   "metadata": {},
   "outputs": [],
   "source": []
  },
  {
   "cell_type": "code",
   "execution_count": null,
   "metadata": {},
   "outputs": [],
   "source": []
  },
  {
   "cell_type": "code",
   "execution_count": null,
   "metadata": {},
   "outputs": [],
   "source": []
  },
  {
   "cell_type": "code",
   "execution_count": null,
   "metadata": {},
   "outputs": [],
   "source": []
  },
  {
   "cell_type": "code",
   "execution_count": 197,
   "metadata": {},
   "outputs": [],
   "source": [
    "pre = driver.find_elements_by_xpath('/html/body/pre')\n",
    "from pprint import pprint as pp"
   ]
  },
  {
   "cell_type": "code",
   "execution_count": 194,
   "metadata": {},
   "outputs": [],
   "source": [
    "data = dict(json.loads(pre[0].text))"
   ]
  },
  {
   "cell_type": "code",
   "execution_count": 199,
   "metadata": {},
   "outputs": [
    {
     "name": "stdout",
     "output_type": "stream",
     "text": [
      "10205\n"
     ]
    }
   ],
   "source": [
    "pp(data['photos']['pages'])"
   ]
  },
  {
   "cell_type": "code",
   "execution_count": null,
   "metadata": {},
   "outputs": [],
   "source": []
  },
  {
   "cell_type": "code",
   "execution_count": null,
   "metadata": {},
   "outputs": [],
   "source": []
  },
  {
   "cell_type": "code",
   "execution_count": null,
   "metadata": {},
   "outputs": [],
   "source": []
  },
  {
   "cell_type": "code",
   "execution_count": null,
   "metadata": {},
   "outputs": [],
   "source": []
  },
  {
   "cell_type": "code",
   "execution_count": 124,
   "metadata": {},
   "outputs": [
    {
     "data": {
      "text/plain": [
       "['s_tp:7940']"
      ]
     },
     "execution_count": 124,
     "metadata": {},
     "output_type": "execute_result"
    }
   ],
   "source": [
    "[each['name']+':'  + each['value'] for each in cookies if each['name'] == 's_tp']"
   ]
  },
  {
   "cell_type": "code",
   "execution_count": 145,
   "metadata": {},
   "outputs": [],
   "source": [
    "response = s.get(api_url, params=params)"
   ]
  },
  {
   "cell_type": "code",
   "execution_count": 146,
   "metadata": {},
   "outputs": [
    {
     "data": {
      "text/plain": [
       "dict_keys(['id', 'owner', 'secret', 'server', 'farm', 'title', 'ispublic', 'isfriend', 'isfamily', 'safe'])"
      ]
     },
     "execution_count": 146,
     "metadata": {},
     "output_type": "execute_result"
    }
   ],
   "source": [
    "response.json()['photos']['photo'][0].keys()"
   ]
  },
  {
   "cell_type": "code",
   "execution_count": null,
   "metadata": {},
   "outputs": [],
   "source": []
  },
  {
   "cell_type": "code",
   "execution_count": null,
   "metadata": {},
   "outputs": [],
   "source": []
  },
  {
   "cell_type": "code",
   "execution_count": 140,
   "metadata": {},
   "outputs": [],
   "source": [
    "driver.quit()"
   ]
  },
  {
   "cell_type": "code",
   "execution_count": 141,
   "metadata": {},
   "outputs": [],
   "source": [
    "browser.quit()"
   ]
  },
  {
   "cell_type": "code",
   "execution_count": 18,
   "metadata": {},
   "outputs": [],
   "source": [
    "img = response.json()['photos']['photo'][0]"
   ]
  },
  {
   "cell_type": "code",
   "execution_count": 19,
   "metadata": {},
   "outputs": [
    {
     "data": {
      "text/plain": [
       "{'id': '8966548467',\n",
       " 'owner': '36587311@N08',\n",
       " 'secret': '312f2ed006',\n",
       " 'server': '3792',\n",
       " 'farm': 4,\n",
       " 'title': 'cloud',\n",
       " 'ispublic': 1,\n",
       " 'isfriend': 0,\n",
       " 'isfamily': 0,\n",
       " 'safe': 0}"
      ]
     },
     "execution_count": 19,
     "metadata": {},
     "output_type": "execute_result"
    }
   ],
   "source": [
    "img"
   ]
  },
  {
   "cell_type": "code",
   "execution_count": 20,
   "metadata": {},
   "outputs": [],
   "source": [
    "link = f\"https://farm{img['farm']}.staticflickr.com/{img['server']}/{img['id']}_{img['secret']}_o.png\" "
   ]
  },
  {
   "cell_type": "code",
   "execution_count": null,
   "metadata": {},
   "outputs": [],
   "source": [
    "https://farm{farm-id}.staticflickr.com/{server-id}/{id}_{o-secret}_o.(jpg|gif|png)"
   ]
  },
  {
   "cell_type": "code",
   "execution_count": 21,
   "metadata": {},
   "outputs": [
    {
     "data": {
      "text/plain": [
       "'https://farm4.staticflickr.com/3792/8966548467_312f2ed006_o.png'"
      ]
     },
     "execution_count": 21,
     "metadata": {},
     "output_type": "execute_result"
    }
   ],
   "source": [
    "link"
   ]
  },
  {
   "cell_type": "code",
   "execution_count": null,
   "metadata": {},
   "outputs": [],
   "source": []
  },
  {
   "cell_type": "code",
   "execution_count": null,
   "metadata": {},
   "outputs": [],
   "source": []
  },
  {
   "cell_type": "code",
   "execution_count": null,
   "metadata": {},
   "outputs": [],
   "source": []
  },
  {
   "cell_type": "code",
   "execution_count": null,
   "metadata": {},
   "outputs": [],
   "source": []
  },
  {
   "cell_type": "code",
   "execution_count": 12,
   "metadata": {},
   "outputs": [],
   "source": [
    "parsed_url = api_url+\"?\"+\"&\".join([\"=\".join([each , params[each]]) for each in params])"
   ]
  },
  {
   "cell_type": "code",
   "execution_count": 46,
   "metadata": {},
   "outputs": [],
   "source": [
    "browser = webdriver.Firefox()"
   ]
  },
  {
   "cell_type": "code",
   "execution_count": 47,
   "metadata": {},
   "outputs": [],
   "source": [
    "browser.get(parsed_url)"
   ]
  },
  {
   "cell_type": "code",
   "execution_count": 45,
   "metadata": {},
   "outputs": [],
   "source": [
    "browser.quit()"
   ]
  },
  {
   "cell_type": "code",
   "execution_count": 13,
   "metadata": {},
   "outputs": [],
   "source": [
    "script = f\"window.open('{parsed_url}')\""
   ]
  },
  {
   "cell_type": "code",
   "execution_count": null,
   "metadata": {},
   "outputs": [],
   "source": [
    "browser.execute_script(script)"
   ]
  },
  {
   "cell_type": "code",
   "execution_count": 154,
   "metadata": {},
   "outputs": [],
   "source": [
    "ext = \"date_upload, date_taken, owner_name, icon_server, original_format, last_update, geo, tags, machine_tags, o_dims, views, media, path_alias, url_sq, url_t, url_s, url_q, url_m, url_n, url_z, url_c, url_l, url_o\""
   ]
  },
  {
   "cell_type": "code",
   "execution_count": 155,
   "metadata": {},
   "outputs": [],
   "source": [
    "ext = [each.strip() for each in ext.split(',')]"
   ]
  },
  {
   "cell_type": "code",
   "execution_count": null,
   "metadata": {},
   "outputs": [],
   "source": []
  },
  {
   "cell_type": "code",
   "execution_count": null,
   "metadata": {},
   "outputs": [],
   "source": []
  },
  {
   "cell_type": "code",
   "execution_count": null,
   "metadata": {},
   "outputs": [],
   "source": []
  },
  {
   "cell_type": "code",
   "execution_count": null,
   "metadata": {},
   "outputs": [],
   "source": []
  },
  {
   "cell_type": "code",
   "execution_count": null,
   "metadata": {},
   "outputs": [],
   "source": []
  },
  {
   "cell_type": "code",
   "execution_count": null,
   "metadata": {},
   "outputs": [],
   "source": []
  },
  {
   "cell_type": "code",
   "execution_count": null,
   "metadata": {},
   "outputs": [],
   "source": [
    "try:\n",
    "    elements = driver.find_elements_by_xpath('//a[@class=\"overlay\"]')\n",
    "    num_elements = len(elements)\n",
    "    print(num_elements)\n",
    "except Exception as e:\n",
    "    print('Error getting elements:' + str(e))"
   ]
  },
  {
   "cell_type": "code",
   "execution_count": null,
   "metadata": {},
   "outputs": [],
   "source": []
  },
  {
   "cell_type": "code",
   "execution_count": null,
   "metadata": {},
   "outputs": [],
   "source": [
    "elem= elements[0]"
   ]
  },
  {
   "cell_type": "code",
   "execution_count": null,
   "metadata": {},
   "outputs": [],
   "source": [
    "elements[0].get_property('attributes')"
   ]
  },
  {
   "cell_type": "code",
   "execution_count": null,
   "metadata": {},
   "outputs": [],
   "source": [
    "for element in elements:\n",
    "    print(element.get_attribute('href'))"
   ]
  },
  {
   "cell_type": "code",
   "execution_count": null,
   "metadata": {},
   "outputs": [],
   "source": []
  },
  {
   "cell_type": "code",
   "execution_count": null,
   "metadata": {},
   "outputs": [],
   "source": [
    "def exif(action):\n",
    "    exif = driver.find_element_by_link_text(action)\n",
    "    exif.click()\n",
    "    return"
   ]
  },
  {
   "cell_type": "code",
   "execution_count": null,
   "metadata": {},
   "outputs": [],
   "source": [
    "elem  = driver.find_element_by_xpath('//a[@id=\"yui_3_16_0_1_1576995420623_60055\"]')"
   ]
  },
  {
   "cell_type": "code",
   "execution_count": null,
   "metadata": {},
   "outputs": [],
   "source": [
    "elem.send_keys(Keys.COMMAND + Keys.RETURN)\n"
   ]
  },
  {
   "cell_type": "code",
   "execution_count": null,
   "metadata": {},
   "outputs": [],
   "source": [
    "tab = driver.find_element_by_tag_name('body')\n",
    "tab.send_keys(Keys.COMMAND + \"t\")"
   ]
  },
  {
   "cell_type": "code",
   "execution_count": null,
   "metadata": {},
   "outputs": [],
   "source": [
    "\n"
   ]
  },
  {
   "cell_type": "code",
   "execution_count": null,
   "metadata": {},
   "outputs": [],
   "source": [
    "SHOW = \"Show EXIF\"\n",
    "HIDE = \"Hide EXIF\""
   ]
  },
  {
   "cell_type": "code",
   "execution_count": null,
   "metadata": {},
   "outputs": [],
   "source": [
    "exif(SHOW)"
   ]
  },
  {
   "cell_type": "code",
   "execution_count": null,
   "metadata": {},
   "outputs": [],
   "source": [
    "exif(HIDE)"
   ]
  },
  {
   "cell_type": "code",
   "execution_count": null,
   "metadata": {},
   "outputs": [],
   "source": [
    "main_window = driver.current_window_handle"
   ]
  },
  {
   "cell_type": "code",
   "execution_count": null,
   "metadata": {},
   "outputs": [],
   "source": []
  },
  {
   "cell_type": "code",
   "execution_count": null,
   "metadata": {},
   "outputs": [],
   "source": [
    "driver.execute_script(\"window.scrollTo(0, document.body.scrollHeight);\")"
   ]
  },
  {
   "cell_type": "code",
   "execution_count": null,
   "metadata": {},
   "outputs": [],
   "source": []
  },
  {
   "cell_type": "code",
   "execution_count": null,
   "metadata": {},
   "outputs": [],
   "source": [
    "scrpt = ['window.open(\"', page2_scroll, '\");']"
   ]
  },
  {
   "cell_type": "code",
   "execution_count": null,
   "metadata": {},
   "outputs": [],
   "source": [
    "driver.find_element_by_tag_name('body').send_keys(Keys.COMMAND + 't') "
   ]
  },
  {
   "cell_type": "code",
   "execution_count": null,
   "metadata": {},
   "outputs": [],
   "source": [
    "driver.execute_script(\"\".join(scrpt))"
   ]
  },
  {
   "cell_type": "code",
   "execution_count": null,
   "metadata": {},
   "outputs": [],
   "source": [
    "driver.execute_script('window.open(\"\")')"
   ]
  },
  {
   "cell_type": "code",
   "execution_count": null,
   "metadata": {},
   "outputs": [],
   "source": [
    "new_tab = [tab for tab in driver.window_handles if tab != main_window][0]"
   ]
  },
  {
   "cell_type": "code",
   "execution_count": null,
   "metadata": {},
   "outputs": [],
   "source": [
    "driver.switch_to.window(new_tab)"
   ]
  },
  {
   "cell_type": "code",
   "execution_count": null,
   "metadata": {},
   "outputs": [],
   "source": [
    "driver.get(\"https://www.google.com\")"
   ]
  },
  {
   "cell_type": "code",
   "execution_count": null,
   "metadata": {},
   "outputs": [],
   "source": [
    "driver.close()"
   ]
  },
  {
   "cell_type": "code",
   "execution_count": null,
   "metadata": {},
   "outputs": [],
   "source": [
    "driver.current_window_handle"
   ]
  },
  {
   "cell_type": "code",
   "execution_count": null,
   "metadata": {},
   "outputs": [],
   "source": [
    "driver.quit()"
   ]
  },
  {
   "cell_type": "code",
   "execution_count": null,
   "metadata": {},
   "outputs": [],
   "source": []
  },
  {
   "cell_type": "code",
   "execution_count": null,
   "metadata": {},
   "outputs": [],
   "source": []
  },
  {
   "cell_type": "code",
   "execution_count": null,
   "metadata": {},
   "outputs": [],
   "source": []
  }
 ],
 "metadata": {
  "kernelspec": {
   "display_name": "Python 3",
   "language": "python",
   "name": "python3"
  },
  "language_info": {
   "codemirror_mode": {
    "name": "ipython",
    "version": 3
   },
   "file_extension": ".py",
   "mimetype": "text/x-python",
   "name": "python",
   "nbconvert_exporter": "python",
   "pygments_lexer": "ipython3",
   "version": "3.7.4"
  }
 },
 "nbformat": 4,
 "nbformat_minor": 4
}
