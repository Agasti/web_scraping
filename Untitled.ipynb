{
 "cells": [
  {
   "cell_type": "code",
   "execution_count": 65,
   "metadata": {},
   "outputs": [],
   "source": [
    "import copy\n",
    "params = {\n",
    "    \"sort\" : \"relevance\",\n",
    "    \"parse_tags\" : \"1\",\n",
    "    \"content_type\" : \"7\",\n",
    "    \"lang\": \"en-US\",\n",
    "    \"has_geo\" :\"1\",\n",
    "    \"media\" : \"photos\",\n",
    "    \"view_all\" : \"1\",\n",
    "    \"text\" : \"clouds\",\n",
    "    \"viewerNSID\": \"\",\n",
    "    \"method\" : \"flickr.photos.search\",\n",
    "    \"csrf\" : \"\",\n",
    "    \"format\" : \"json\",\n",
    "    \"hermes\" : \"1\",\n",
    "    \"hermesClient\" : \"1\",\n",
    "    \"nojsoncallback\" : \"1\",\n",
    "    \"geo_context\": '2', # 0: all , 1: indoors, 2 : outdoors\n",
    "    \"privacy_filter\" : 1 \n",
    "}"
   ]
  },
  {
   "cell_type": "code",
   "execution_count": 70,
   "metadata": {},
   "outputs": [],
   "source": [
    "def funct(params=params):\n",
    "    local_scope_params = copy.deepcopy(params)\n",
    "    for each in params: local_scope_params[each] = 0\n",
    "    return {    \"geo_context\": '2', # 0: all , 1: indoors, 2 : outdoors\n",
    "    \"privacy_filter\" : 1 \n",
    "}"
   ]
  },
  {
   "cell_type": "code",
   "execution_count": 71,
   "metadata": {},
   "outputs": [],
   "source": [
    "returned = funct(params)"
   ]
  },
  {
   "cell_type": "code",
   "execution_count": 72,
   "metadata": {},
   "outputs": [
    {
     "data": {
      "text/plain": [
       "{'geo_context': '2', 'privacy_filter': 1}"
      ]
     },
     "execution_count": 72,
     "metadata": {},
     "output_type": "execute_result"
    }
   ],
   "source": [
    "returned"
   ]
  },
  {
   "cell_type": "code",
   "execution_count": 68,
   "metadata": {},
   "outputs": [
    {
     "data": {
      "text/plain": [
       "{'sort': 'relevance',\n",
       " 'parse_tags': '1',\n",
       " 'content_type': '7',\n",
       " 'lang': 'en-US',\n",
       " 'has_geo': '1',\n",
       " 'media': 'photos',\n",
       " 'view_all': '1',\n",
       " 'text': 'clouds',\n",
       " 'viewerNSID': '',\n",
       " 'method': 'flickr.photos.search',\n",
       " 'csrf': '',\n",
       " 'format': 'json',\n",
       " 'hermes': '1',\n",
       " 'hermesClient': '1',\n",
       " 'nojsoncallback': '1',\n",
       " 'geo_context': '2',\n",
       " 'privacy_filter': 1}"
      ]
     },
     "execution_count": 68,
     "metadata": {},
     "output_type": "execute_result"
    }
   ],
   "source": [
    "params"
   ]
  },
  {
   "cell_type": "code",
   "execution_count": null,
   "metadata": {},
   "outputs": [],
   "source": []
  },
  {
   "cell_type": "code",
   "execution_count": null,
   "metadata": {},
   "outputs": [],
   "source": []
  },
  {
   "cell_type": "code",
   "execution_count": null,
   "metadata": {},
   "outputs": [],
   "source": []
  },
  {
   "cell_type": "code",
   "execution_count": 2,
   "metadata": {},
   "outputs": [],
   "source": [
    "import random"
   ]
  },
  {
   "cell_type": "code",
   "execution_count": 10,
   "metadata": {},
   "outputs": [
    {
     "data": {
      "text/plain": [
       "datetime.datetime(2019, 12, 27, 17, 38, 38, 833395)"
      ]
     },
     "execution_count": 10,
     "metadata": {},
     "output_type": "execute_result"
    }
   ],
   "source": [
    "time = dt.fromtimestamp(1577486318.833395)\n",
    "time"
   ]
  },
  {
   "cell_type": "code",
   "execution_count": 32,
   "metadata": {},
   "outputs": [],
   "source": [
    "test = dt.now() - dt.now()"
   ]
  },
  {
   "cell_type": "code",
   "execution_count": 33,
   "metadata": {},
   "outputs": [],
   "source": [
    "test = test + dt.now()"
   ]
  },
  {
   "cell_type": "code",
   "execution_count": 34,
   "metadata": {},
   "outputs": [
    {
     "data": {
      "text/plain": [
       "'2019-12-27 19:23:31'"
      ]
     },
     "execution_count": 34,
     "metadata": {},
     "output_type": "execute_result"
    }
   ],
   "source": [
    "test.strftime(\"%Y-%m-%d %H:%M:%S\")"
   ]
  },
  {
   "cell_type": "code",
   "execution_count": 11,
   "metadata": {},
   "outputs": [],
   "source": [
    "import argparse,textwrap, time, json, re, requests, random, datetime\n",
    "from datetime import datetime as dt\n",
    "\n",
    "from selenium import webdriver\n",
    "from selenium.webdriver.chrome.options import Options\n",
    "from selenium.webdriver.common.keys import Keys\n",
    "from selenium.webdriver.common.desired_capabilities import DesiredCapabilities\n",
    "from selenium.webdriver.support.ui import WebDriverWait\n",
    "from selenium.webdriver.common.by import By\n",
    "from selenium.webdriver.support import expected_conditions as EC\n",
    "\n",
    "#from fake_useragent import UserAgent"
   ]
  },
  {
   "cell_type": "code",
   "execution_count": 14,
   "metadata": {},
   "outputs": [
    {
     "ename": "SyntaxError",
     "evalue": "invalid syntax (<ipython-input-14-468a4bdcbe79>, line 1)",
     "output_type": "error",
     "traceback": [
      "\u001b[0;36m  File \u001b[0;32m\"<ipython-input-14-468a4bdcbe79>\"\u001b[0;36m, line \u001b[0;32m1\u001b[0m\n\u001b[0;31m    import argparse,textwrap time, json, re, requests, random, datetime\u001b[0m\n\u001b[0m                                ^\u001b[0m\n\u001b[0;31mSyntaxError\u001b[0m\u001b[0;31m:\u001b[0m invalid syntax\n"
     ]
    }
   ],
   "source": [
    "verbose = 3\n",
    "\n",
    "test = 1\n",
    "\n",
    "AFTER_DATE = 1576471428\n",
    "\n",
    "BEFORE_DATE = dt.now()\n",
    "\n",
    "PHOTOS_PER_PAGE = 500\n",
    "\n",
    "additional_extras = \"url_o,original_format,date_taken,date_upload,geo\"\n",
    "\n",
    "DATA_PATH = ('./test/' if test else './json_data/')\n",
    "\n",
    "COURTESY_SLEEP = random.randint(15, 28) /10\n",
    "\n",
    "params = {\n",
    "    \"sort\" : \"relevance\",\n",
    "    \"parse_tags\" : \"1\",\n",
    "    \"content_type\" : \"7\",\n",
    "    \"lang\": \"en-US\",\n",
    "    \"has_geo\" :\"1\",\n",
    "    \"media\" : \"photos\",\n",
    "    \"view_all\" : \"1\",\n",
    "    \"text\" : \"clouds\",\n",
    "    \"viewerNSID\": \"\",\n",
    "    \"method\" : \"flickr.photos.search\",\n",
    "    \"csrf\" : \"\",\n",
    "    \"format\" : \"json\",\n",
    "    \"hermes\" : \"1\",\n",
    "    \"hermesClient\" : \"1\",\n",
    "    \"nojsoncallback\" : \"1\",\n",
    "    \"geo_context\": '2', # 0: all , 1: indoors, 2 : outdoors\n",
    "    \"privacy_filter\" : 1 \n",
    "}\n",
    "\n",
    "privacy_filters = '''\n",
    "\"public photos\" : '1',\n",
    "\"private photos visible to friends\" : '2',\n",
    "\"private photos visible to family\" : '3',\n",
    "\"private photos visible to friends & family\": '4',\n",
    "\"completely private photos\" : '5'\n",
    "'''\n",
    "\n",
    "FLICKR = 'https://flickr.com/search/'\n",
    "TAGS = ['clouds', 'cloud', 'sky', 'storm', 'weather']\n",
    "\n",
    "options = Options()\n",
    "\n",
    "headless = True\n",
    "if headless: options.add_argument('--headless')\n",
    "\n",
    "caps = DesiredCapabilities.CHROME\n",
    "caps['loggingPref'] = {'performance': 'ALL'}\n",
    "\n",
    "driver = webdriver.Chrome(options = options, desired_capabilities=caps)\n",
    "\n",
    "xhrCallIntercept_js = \"\"\"\n",
    "(function(XHR) {\n",
    "  \"use strict\";\n",
    "\n",
    "  var element = document.createElement('div');\n",
    "  element.id = \"interceptedResponse\";\n",
    "  element.appendChild(document.createTextNode(\"\"));\n",
    "  document.body.appendChild(element);\n",
    "\n",
    "  var open = XHR.prototype.open;\n",
    "  var send = XHR.prototype.send;\n",
    "\n",
    "  XHR.prototype.open = function(method, url, async, user, pass) {\n",
    "    this._url = url; // want to track the url requested\n",
    "    open.call(this, method, url, async, user, pass);\n",
    "  };\n",
    "\n",
    "  XHR.prototype.send = function(data) {\n",
    "    var self = this;\n",
    "    var oldOnReadyStateChange;\n",
    "    var url = this._url;\n",
    "\n",
    "    function onReadyStateChange() {\n",
    "      if(self.status === 200 && self.readyState == 4 /* complete */) {\n",
    "        document.getElementById(\"interceptedResponse\").innerHTML +=\n",
    "          '{\"data\":' + self._url + ', \"headers\" :' + self.headers + ' }*****';\n",
    "      }\n",
    "      if(oldOnReadyStateChange) {\n",
    "        oldOnReadyStateChange();\n",
    "      }\n",
    "    }\n",
    "\n",
    "    if(this.addEventListener) {\n",
    "      this.addEventListener(\"readystatechange\", onReadyStateChange,\n",
    "        false);\n",
    "    } else {\n",
    "      oldOnReadyStateChange = this.onreadystatechange;\n",
    "      this.onreadystatechange = onReadyStateChange;\n",
    "    }\n",
    "    send.call(this, data);\n",
    "  }\n",
    "})(XMLHttpRequest);\n",
    "\"\"\"\n",
    "\n",
    "try:\n",
    "    url = FLICKR + \"?has_geo=1&media=photos&view_all=1&text=\" + TAGS[0]\n",
    "\n",
    "    driver.get(url)\n",
    "    \n",
    "    driver.execute_script(xhrCallIntercept_js)\n",
    "\n",
    "    print('title : \"{}\"'.format(driver.title))\n",
    "\n",
    "except Exception as e:\n",
    "    print('Error! Cannot open search page: ' + str(e))\n",
    "\n",
    "wait = False\n",
    "while wait != True:\n",
    "    if verbose >= 1: print(\"Getting AJAX data...\")\n",
    "    # trying scroll to trigger and api call\n",
    "    try:\n",
    "        if verbose >= 3: print('attempting Scroll!')\n",
    "        driver.execute_script(\"window.scrollTo(0, document.body.scrollHeight);\")\n",
    "        if verbose >= 3: print('Scrolled...')\n",
    "\n",
    "        # waiting for the api call to be included in the DOM\n",
    "        wait = WebDriverWait(driver, 15).until(EC.text_to_be_present_in_element((By.ID, \"interceptedResponse\"), \"api_key\"))\n",
    "\n",
    "    except Exception as e:\n",
    "        print(\"intercept failed!:\" + str(e))\n",
    "\n",
    "    intercepts = driver.find_elements_by_id('interceptedResponse')\n",
    "\n",
    "if wait == True and verbose >= 1: print('ajax call intercepted!\\n')\n",
    "xhr_call = intercepts[0].text\n",
    "\n",
    "cookies = driver.get_cookies()\n",
    "driver.close()\n",
    "\n",
    "\n",
    "# pasrsing data from DOM element\n",
    "var_names = [\"api_key\", \"reqId\", \"api_url\", \"extras\"]\n",
    "re_expressions = [r\"(api_key)=([\\dabcdef]*)(&)\", r\"(reqId)=([\\dabcdef]*)(&)\", r\"(https:\\/\\/(\\w+\\.?)+(\\/\\w+)+)(\\?)\", r\"extras=((\\w+(%2)?)+?)?&\"]\n",
    "\n",
    "groups = [2,2,1,1]\n",
    "\n",
    "variables = [dict(zip([\"var_name\", \"regex\", 'group'], each)) for each in [each for each in zip(var_names, re_expressions, groups)]]\n",
    "\n",
    "#creating variables for each parsed data\n",
    "for each in variables:\n",
    "\n",
    "    if  re.search(each[\"regex\"], string=xhr_call, flags=re.MULTILINE) != None:\n",
    "        globals()[each[\"var_name\"]] = re.search(each[\"regex\"], string=xhr_call, flags=re.MULTILINE).group(each[\"group\"])\n",
    "    else:\n",
    "        globals()[each[\"var_name\"]] = None\n",
    "\n",
    "extras = extras.replace('%2C', ',')\n",
    "\n",
    "if verbose >= 2:\n",
    "    print(\"Extracted ajax params:--------\\n\")\n",
    "    for each in var_names:\n",
    "        print(\"%(var)s :     %(value)s\" % {\"var\": each.ljust(10, ' '), \"value\" : globals()[each]})\n",
    "\n",
    "added_params = {\n",
    "    \"extras\" : extras + additional_extras,\n",
    "    \"per_page\" : PHOTOS_PER_PAGE,\n",
    "    \"api_key\" : api_key,\n",
    "    \"reqId\" : reqId\n",
    "}\n",
    "\n",
    "for each in added_params: params[each] = added_params[each]\n",
    "\n",
    "spoof_webdriver = False\n",
    "\n",
    "if spoof_webdriver: ua = UserAgent()\n",
    "    \n",
    "with requests.sessions.Session() as s:\n",
    "    for cookie in cookies:\n",
    "        s.cookies.set(cookie['name'], cookie['value'])\n",
    "    if spoof_webdriver: s.headers['User-Agent'] = str(ua.chrome)\n",
    "response = s.get(api_url, params=params)\n",
    "    \n",
    "    \n",
    "\n",
    "now = BEFORE_DATE\n",
    "days_offset = 3\n",
    "\n",
    "def change_date_range(index, offset=3):\n",
    "    params['min_upload_date'] = index - datetime.timedelta(days=offset)\n",
    "    params['max_upload_date'] = index\n",
    "\n",
    "change_date_range(now)\n",
    "\n",
    "\n",
    "\n",
    "total_photos = s.get(api_url, params=params).json()['photos']['total']\n",
    "\n",
    "def find_best_date_range():\n",
    "\n",
    "    global days_offset, total_photos\n",
    "    \n",
    "    params['per_page'] = 1\n",
    "\n",
    "    if verbose >=3: print(f\"Finding a better range (in 20 attempts or less) ...\")\n",
    "    repeats = 0\n",
    "    #int(total_photos) <= 3990 or int(total_photos) > 4000\n",
    "    while (int(total_photos) != 4000) and not (int(total_photos) < 4000 and repeats > 20):\n",
    "        if int(total_photos) > 4000:\n",
    "            days_offset = days_offset * 4000/ int(total_photos)\n",
    "            if verbose >=3: print(f\"({str(repeats)}): too many photos ({total_photos.ljust(5, '+')}): new range from {params['min_upload_date']} to {params['max_upload_date']}\", end = '\\r')\n",
    "        if int(total_photos) <= 3990:\n",
    "            days_offset = days_offset * 3990 / int(total_photos)\n",
    "            if verbose >=3: print(f\"({str(repeats)}): not enough photos ({total_photos.ljust(5, '-')}): new range from {params['min_upload_date']} to {params['max_upload_date']}\", end = '\\r')\n",
    "        params['min_upload_date'] = params['max_upload_date'] - datetime.timedelta(days_offset)\n",
    "        total_photos = s.get(api_url, params=params).json()['photos']['total']\n",
    "        repeats += 1\n",
    "    params['per_page'] = PHOTOS_PER_PAGE\n",
    "\n",
    "def write_each_page_as_json_file(path, params, session, max_pages):\n",
    "    params['per_page'] = PHOTOS_PER_PAGE\n",
    "    \n",
    "    for page in range(1, 1 + max_pages):\n",
    "        print(f\"Requesting page {page}...\".ljust(120, ' '),  end='\\r')\n",
    "\n",
    "        params['page'] = page\n",
    "\n",
    "\n",
    "        before = dt.now().timestamp()\n",
    "        try:\n",
    "            response = session.get(api_url, params=params)\n",
    "        except Exception as e:\n",
    "            print(f\"Couldn't request JSON data:____ {e}\")\n",
    "        after = dt.now().timestamp()\n",
    "        \n",
    "        last_response_time = after - before\n",
    "        \n",
    "        \n",
    "        # Trying to write JSON data to file\n",
    "        file_to_be_written = f\"{path}{term}_{str(params['min_upload_date'].timestamp())}-{str(params['max_upload_date'].timestamp())}_{page}.json\"\n",
    "        #if verbose >=3: print(f\" file path to be written: {file_to_be_written}\\n\\n\")\n",
    "        try:\n",
    "            with open(file_to_be_written, 'w') as outfile:\n",
    "                json.dump(response.json(), outfile)\n",
    "                #print('\\r', end = '')\n",
    "            print(f\"{file_to_be_written} written succesfully!\")\n",
    "        except Exception as e:\n",
    "            print(f\"problem dumping json data: {str(e)}\")\n",
    "        if verbose >=2: print(f'sleeping for {last_response_time * COURTESY_SLEEP} seconds... (for courtesy :))'.ljust(120, ' '), end = '\\r')\n",
    "        time.sleep(last_response_time * random.randint(0, 3))\n",
    "\n",
    "\n",
    "for term in TAGS:\n",
    "\n",
    "    params['text'] = term\n",
    "\n",
    "    first_range = True\n",
    "    response = s.get(api_url, params=params)\n",
    "\n",
    "    while params['min_upload_date'].timestamp() >= 1483228800 :\n",
    "        if not first_range:\n",
    "            change_date_range(params['max_upload_date'] - datetime.timedelta(days=days_offset), days_offset)\n",
    "            total_photos = response.json()['photos']['total']\n",
    "        else:\n",
    "            first_range = False\n",
    "            total_photos = s.get(api_url, params=params).json()['photos']['total']\n",
    "        print(\"\".ljust(120, '_'))\n",
    "        if verbose >=3: print(f\"New date range: {params['min_upload_date']} to {params['max_upload_date']}\")\n",
    "\n",
    "        total_photos = s.get(api_url, params=params).json()['photos']['total']\n",
    "        if verbose >=3: print(f\"Photos in current range: {total_photos}\")\n",
    "\n",
    "        find_best_date_range()\n",
    "\n",
    "        response = s.get(api_url, params=params)\n",
    "        total_photos = response.json()['photos']['total']\n",
    "        if verbose >= 2: print(f\"Next suitable range: {params['min_upload_date']} to {params['max_upload_date']}______ total photos : {total_photos}\".ljust(120, ' '))\n",
    "\n",
    "        print(f'starting JSON dump...')\n",
    "        max_pages = response.json()['photos']['max_allowed_pages']\n",
    "\n",
    "        write_each_page_as_json_file(path=DATA_PATH, params=params, session=s, max_pages=max_pages)\n",
    "        \n",
    "        time.sleep(random.randint(10, 25)/ 10)\n",
    "\n",
    "    time.sleep(random.randrange(4, 7))"
   ]
  },
  {
   "cell_type": "code",
   "execution_count": null,
   "metadata": {
    "collapsed": true,
    "jupyter": {
     "outputs_hidden": true
    }
   },
   "outputs": [],
   "source": []
  },
  {
   "cell_type": "code",
   "execution_count": 22,
   "metadata": {},
   "outputs": [],
   "source": [
    "response = s.get(api_url, params=params).json()['photos']['total']"
   ]
  },
  {
   "cell_type": "code",
   "execution_count": 23,
   "metadata": {},
   "outputs": [
    {
     "data": {
      "text/plain": [
       "'693'"
      ]
     },
     "execution_count": 23,
     "metadata": {},
     "output_type": "execute_result"
    }
   ],
   "source": [
    "response.json()['photos']['total']"
   ]
  },
  {
   "cell_type": "code",
   "execution_count": 17,
   "metadata": {},
   "outputs": [
    {
     "ename": "KeyError",
     "evalue": "'api_key'",
     "output_type": "error",
     "traceback": [
      "\u001b[0;31m---------------------------------------------------------------------------\u001b[0m",
      "\u001b[0;31mKeyError\u001b[0m                                  Traceback (most recent call last)",
      "\u001b[0;32m<ipython-input-17-c69b485e1f6c>\u001b[0m in \u001b[0;36m<module>\u001b[0;34m\u001b[0m\n\u001b[0;32m----> 1\u001b[0;31m \u001b[0mparams\u001b[0m\u001b[0;34m[\u001b[0m\u001b[0;34m'api_key'\u001b[0m\u001b[0;34m]\u001b[0m\u001b[0;34m\u001b[0m\u001b[0;34m\u001b[0m\u001b[0m\n\u001b[0m",
      "\u001b[0;31mKeyError\u001b[0m: 'api_key'"
     ]
    }
   ],
   "source": [
    "params['api_key']"
   ]
  },
  {
   "cell_type": "code",
   "execution_count": null,
   "metadata": {},
   "outputs": [],
   "source": []
  },
  {
   "cell_type": "code",
   "execution_count": 31,
   "metadata": {},
   "outputs": [
    {
     "data": {
      "text/plain": [
       "4000"
      ]
     },
     "execution_count": 31,
     "metadata": {},
     "output_type": "execute_result"
    }
   ],
   "source": [
    "max_pages"
   ]
  },
  {
   "cell_type": "code",
   "execution_count": 32,
   "metadata": {},
   "outputs": [
    {
     "data": {
      "text/plain": [
       "dict_keys(['page', 'pages', 'perpage', 'total', 'photo', 'max_allowed_results', 'max_allowed_pages'])"
      ]
     },
     "execution_count": 32,
     "metadata": {},
     "output_type": "execute_result"
    }
   ],
   "source": [
    "response.json()['photos'].keys()"
   ]
  },
  {
   "cell_type": "code",
   "execution_count": 44,
   "metadata": {},
   "outputs": [
    {
     "data": {
      "text/plain": [
       "1"
      ]
     },
     "execution_count": 44,
     "metadata": {},
     "output_type": "execute_result"
    }
   ],
   "source": [
    "response.json()['photos']['perpage']"
   ]
  },
  {
   "cell_type": "code",
   "execution_count": null,
   "metadata": {},
   "outputs": [],
   "source": []
  },
  {
   "cell_type": "code",
   "execution_count": null,
   "metadata": {},
   "outputs": [],
   "source": []
  },
  {
   "cell_type": "code",
   "execution_count": null,
   "metadata": {},
   "outputs": [],
   "source": []
  },
  {
   "cell_type": "code",
   "execution_count": 7,
   "metadata": {},
   "outputs": [
    {
     "data": {
      "text/plain": [
       "[1, 2, 3, 4, 5, 6, 7, 8]"
      ]
     },
     "execution_count": 7,
     "metadata": {},
     "output_type": "execute_result"
    }
   ],
   "source": [
    "[each for each in range(1, 9)]"
   ]
  },
  {
   "cell_type": "code",
   "execution_count": 13,
   "metadata": {},
   "outputs": [
    {
     "data": {
      "text/plain": [
       "'2019-12-26 08:08:45'"
      ]
     },
     "execution_count": 13,
     "metadata": {},
     "output_type": "execute_result"
    }
   ],
   "source": [
    "now = datetime.datetime.now()\n",
    "now.strftime('%Y-%m-%d %H:%M:%S')"
   ]
  },
  {
   "cell_type": "code",
   "execution_count": 17,
   "metadata": {},
   "outputs": [],
   "source": [
    "images = response.json()['photos']['photo']"
   ]
  },
  {
   "cell_type": "code",
   "execution_count": 7,
   "metadata": {},
   "outputs": [
    {
     "data": {
      "text/plain": [
       "dict_keys(['page', 'pages', 'perpage', 'total', 'photo', 'max_allowed_results', 'max_allowed_pages'])"
      ]
     },
     "execution_count": 7,
     "metadata": {},
     "output_type": "execute_result"
    }
   ],
   "source": [
    "response.json()['photos'].keys()"
   ]
  },
  {
   "cell_type": "code",
   "execution_count": 9,
   "metadata": {},
   "outputs": [
    {
     "data": {
      "text/plain": [
       "'0'"
      ]
     },
     "execution_count": 9,
     "metadata": {},
     "output_type": "execute_result"
    }
   ],
   "source": [
    "response.json()['photos']['total']"
   ]
  },
  {
   "cell_type": "code",
   "execution_count": 53,
   "metadata": {},
   "outputs": [],
   "source": [
    "def get_link_from_Id(img_id, size = 'o'):\n",
    "    image = [image for image in images if image['id'] == img_id]\n",
    "    assert len(image) == 1, (f\"More than one image have the id '{img_id}'\")\n",
    "    if size == 'o':\n",
    "        assert image[0].get('originalsecret') != None, f\"The image with the id '{img_id}' does not have and original size secret\"\n",
    "        return f\"https://farm{image[0]['farm']}.staticflickr.com/{image[0]['server']}/{img_id}_{image[0]['originalsecret']}_o.{image[0]['originalformat']}\"\n",
    "    else:\n",
    "        return f\"https://farm{image[0]['farm']}.staticflickr.com/{image[0]['server']}/{img_id}_{image[0]['secret']}_{size}.jpg\""
   ]
  },
  {
   "cell_type": "code",
   "execution_count": 56,
   "metadata": {},
   "outputs": [
    {
     "data": {
      "text/plain": [
       "'https://farm3.staticflickr.com/2499/3863384442_4739162827_b.jpg'"
      ]
     },
     "execution_count": 56,
     "metadata": {},
     "output_type": "execute_result"
    }
   ],
   "source": [
    "get_link_from_Id('3863384442', 'b')"
   ]
  },
  {
   "cell_type": "code",
   "execution_count": 14,
   "metadata": {},
   "outputs": [
    {
     "data": {
      "text/plain": [
       "'https://flickr.com/search/?has_geo=1&media=photos&view_all=1&text=clouds'"
      ]
     },
     "execution_count": 14,
     "metadata": {},
     "output_type": "execute_result"
    }
   ],
   "source": [
    "url"
   ]
  },
  {
   "cell_type": "code",
   "execution_count": 60,
   "metadata": {},
   "outputs": [
    {
     "data": {
      "text/plain": [
       "2"
      ]
     },
     "execution_count": 60,
     "metadata": {},
     "output_type": "execute_result"
    }
   ],
   "source": [
    "random.randint(2, 6)"
   ]
  },
  {
   "cell_type": "code",
   "execution_count": 33,
   "metadata": {},
   "outputs": [
    {
     "ename": "NameError",
     "evalue": "name 'images' is not defined",
     "output_type": "error",
     "traceback": [
      "\u001b[0;31m---------------------------------------------------------------------------\u001b[0m",
      "\u001b[0;31mNameError\u001b[0m                                 Traceback (most recent call last)",
      "\u001b[0;32m<ipython-input-33-47d5aa01b40e>\u001b[0m in \u001b[0;36m<module>\u001b[0;34m\u001b[0m\n\u001b[0;32m----> 1\u001b[0;31m \u001b[0mrandom\u001b[0m\u001b[0;34m.\u001b[0m\u001b[0mchoice\u001b[0m\u001b[0;34m(\u001b[0m\u001b[0;34m[\u001b[0m\u001b[0mimg\u001b[0m \u001b[0;32mfor\u001b[0m \u001b[0mimg\u001b[0m \u001b[0;32min\u001b[0m \u001b[0mimages\u001b[0m \u001b[0;32mif\u001b[0m \u001b[0mimg\u001b[0m\u001b[0;34m.\u001b[0m\u001b[0mget\u001b[0m\u001b[0;34m(\u001b[0m\u001b[0;34m'originalsecret'\u001b[0m\u001b[0;34m)\u001b[0m \u001b[0;34m==\u001b[0m \u001b[0;32mNone\u001b[0m\u001b[0;34m]\u001b[0m\u001b[0;34m)\u001b[0m\u001b[0;34m\u001b[0m\u001b[0;34m\u001b[0m\u001b[0m\n\u001b[0m",
      "\u001b[0;31mNameError\u001b[0m: name 'images' is not defined"
     ]
    }
   ],
   "source": [
    "random.choice([img for img in images if img.get('originalsecret') == None])"
   ]
  },
  {
   "cell_type": "code",
   "execution_count": 66,
   "metadata": {},
   "outputs": [],
   "source": [
    "before = dt.now().timestamp()"
   ]
  },
  {
   "cell_type": "code",
   "execution_count": 69,
   "metadata": {},
   "outputs": [],
   "source": [
    "after =dt.now().timestamp()"
   ]
  },
  {
   "cell_type": "code",
   "execution_count": 70,
   "metadata": {},
   "outputs": [
    {
     "data": {
      "text/plain": [
       "12.318365812301636"
      ]
     },
     "execution_count": 70,
     "metadata": {},
     "output_type": "execute_result"
    }
   ],
   "source": [
    "after - before"
   ]
  },
  {
   "cell_type": "code",
   "execution_count": null,
   "metadata": {},
   "outputs": [],
   "source": []
  },
  {
   "cell_type": "code",
   "execution_count": 197,
   "metadata": {},
   "outputs": [],
   "source": [
    "pre = driver.find_elements_by_xpath('/html/body/pre')\n",
    "from pprint import pprint as pp"
   ]
  },
  {
   "cell_type": "code",
   "execution_count": 194,
   "metadata": {},
   "outputs": [],
   "source": [
    "data = dict(json.loads(pre[0].text))"
   ]
  },
  {
   "cell_type": "code",
   "execution_count": 199,
   "metadata": {},
   "outputs": [
    {
     "name": "stdout",
     "output_type": "stream",
     "text": [
      "10205\n"
     ]
    }
   ],
   "source": [
    "pp(data['photos']['pages'])"
   ]
  },
  {
   "cell_type": "code",
   "execution_count": null,
   "metadata": {},
   "outputs": [],
   "source": []
  },
  {
   "cell_type": "code",
   "execution_count": null,
   "metadata": {},
   "outputs": [],
   "source": []
  },
  {
   "cell_type": "code",
   "execution_count": null,
   "metadata": {},
   "outputs": [],
   "source": []
  },
  {
   "cell_type": "code",
   "execution_count": null,
   "metadata": {},
   "outputs": [],
   "source": []
  },
  {
   "cell_type": "code",
   "execution_count": 124,
   "metadata": {},
   "outputs": [
    {
     "data": {
      "text/plain": [
       "['s_tp:7940']"
      ]
     },
     "execution_count": 124,
     "metadata": {},
     "output_type": "execute_result"
    }
   ],
   "source": [
    "[each['name']+':'  + each['value'] for each in cookies if each['name'] == 's_tp']"
   ]
  },
  {
   "cell_type": "code",
   "execution_count": 145,
   "metadata": {},
   "outputs": [],
   "source": [
    "response = s.get(api_url, params=params)"
   ]
  },
  {
   "cell_type": "code",
   "execution_count": 146,
   "metadata": {},
   "outputs": [
    {
     "data": {
      "text/plain": [
       "dict_keys(['id', 'owner', 'secret', 'server', 'farm', 'title', 'ispublic', 'isfriend', 'isfamily', 'safe'])"
      ]
     },
     "execution_count": 146,
     "metadata": {},
     "output_type": "execute_result"
    }
   ],
   "source": [
    "response.json()['photos']['photo'][0].keys()"
   ]
  },
  {
   "cell_type": "code",
   "execution_count": null,
   "metadata": {},
   "outputs": [],
   "source": []
  },
  {
   "cell_type": "code",
   "execution_count": null,
   "metadata": {},
   "outputs": [],
   "source": []
  },
  {
   "cell_type": "code",
   "execution_count": 140,
   "metadata": {},
   "outputs": [],
   "source": [
    "driver.quit()"
   ]
  },
  {
   "cell_type": "code",
   "execution_count": 141,
   "metadata": {},
   "outputs": [],
   "source": [
    "browser.quit()"
   ]
  },
  {
   "cell_type": "code",
   "execution_count": 18,
   "metadata": {},
   "outputs": [],
   "source": [
    "img = response.json()['photos']['photo'][0]"
   ]
  },
  {
   "cell_type": "code",
   "execution_count": 19,
   "metadata": {},
   "outputs": [
    {
     "data": {
      "text/plain": [
       "{'id': '8966548467',\n",
       " 'owner': '36587311@N08',\n",
       " 'secret': '312f2ed006',\n",
       " 'server': '3792',\n",
       " 'farm': 4,\n",
       " 'title': 'cloud',\n",
       " 'ispublic': 1,\n",
       " 'isfriend': 0,\n",
       " 'isfamily': 0,\n",
       " 'safe': 0}"
      ]
     },
     "execution_count": 19,
     "metadata": {},
     "output_type": "execute_result"
    }
   ],
   "source": [
    "img"
   ]
  },
  {
   "cell_type": "code",
   "execution_count": 20,
   "metadata": {},
   "outputs": [],
   "source": [
    "link = f\"https://farm{img['farm']}.staticflickr.com/{img['server']}/{img['id']}_{img['secret']}_o.png\" "
   ]
  },
  {
   "cell_type": "code",
   "execution_count": null,
   "metadata": {},
   "outputs": [],
   "source": [
    "https://farm{farm-id}.staticflickr.com/{server-id}/{id}_{o-secret}_o.(jpg|gif|png)"
   ]
  },
  {
   "cell_type": "code",
   "execution_count": 21,
   "metadata": {},
   "outputs": [
    {
     "data": {
      "text/plain": [
       "'https://farm4.staticflickr.com/3792/8966548467_312f2ed006_o.png'"
      ]
     },
     "execution_count": 21,
     "metadata": {},
     "output_type": "execute_result"
    }
   ],
   "source": [
    "link"
   ]
  },
  {
   "cell_type": "code",
   "execution_count": null,
   "metadata": {},
   "outputs": [],
   "source": []
  },
  {
   "cell_type": "code",
   "execution_count": null,
   "metadata": {},
   "outputs": [],
   "source": []
  },
  {
   "cell_type": "code",
   "execution_count": null,
   "metadata": {},
   "outputs": [],
   "source": []
  },
  {
   "cell_type": "code",
   "execution_count": null,
   "metadata": {},
   "outputs": [],
   "source": []
  },
  {
   "cell_type": "code",
   "execution_count": 12,
   "metadata": {},
   "outputs": [],
   "source": [
    "parsed_url = api_url+\"?\"+\"&\".join([\"=\".join([each , params[each]]) for each in params])"
   ]
  },
  {
   "cell_type": "code",
   "execution_count": 46,
   "metadata": {},
   "outputs": [],
   "source": [
    "browser = webdriver.Firefox()"
   ]
  },
  {
   "cell_type": "code",
   "execution_count": 47,
   "metadata": {},
   "outputs": [],
   "source": [
    "browser.get(parsed_url)"
   ]
  },
  {
   "cell_type": "code",
   "execution_count": 45,
   "metadata": {},
   "outputs": [],
   "source": [
    "browser.quit()"
   ]
  },
  {
   "cell_type": "code",
   "execution_count": 13,
   "metadata": {},
   "outputs": [],
   "source": [
    "script = f\"window.open('{parsed_url}')\""
   ]
  },
  {
   "cell_type": "code",
   "execution_count": null,
   "metadata": {},
   "outputs": [],
   "source": [
    "browser.execute_script(script)"
   ]
  },
  {
   "cell_type": "code",
   "execution_count": 154,
   "metadata": {},
   "outputs": [],
   "source": [
    "ext = \"date_upload, date_taken, owner_name, icon_server, original_format, last_update, geo, tags, machine_tags, o_dims, views, media, path_alias, url_sq, url_t, url_s, url_q, url_m, url_n, url_z, url_c, url_l, url_o\""
   ]
  },
  {
   "cell_type": "code",
   "execution_count": 155,
   "metadata": {},
   "outputs": [],
   "source": [
    "ext = [each.strip() for each in ext.split(',')]"
   ]
  },
  {
   "cell_type": "code",
   "execution_count": null,
   "metadata": {},
   "outputs": [],
   "source": []
  },
  {
   "cell_type": "code",
   "execution_count": null,
   "metadata": {},
   "outputs": [],
   "source": []
  },
  {
   "cell_type": "code",
   "execution_count": null,
   "metadata": {},
   "outputs": [],
   "source": []
  },
  {
   "cell_type": "code",
   "execution_count": null,
   "metadata": {},
   "outputs": [],
   "source": []
  },
  {
   "cell_type": "code",
   "execution_count": null,
   "metadata": {},
   "outputs": [],
   "source": []
  },
  {
   "cell_type": "code",
   "execution_count": null,
   "metadata": {},
   "outputs": [],
   "source": []
  },
  {
   "cell_type": "code",
   "execution_count": null,
   "metadata": {},
   "outputs": [],
   "source": [
    "try:\n",
    "    elements = driver.find_elements_by_xpath('//a[@class=\"overlay\"]')\n",
    "    num_elements = len(elements)\n",
    "    print(num_elements)\n",
    "except Exception as e:\n",
    "    print('Error getting elements:' + str(e))"
   ]
  },
  {
   "cell_type": "code",
   "execution_count": null,
   "metadata": {},
   "outputs": [],
   "source": []
  },
  {
   "cell_type": "code",
   "execution_count": null,
   "metadata": {},
   "outputs": [],
   "source": [
    "elem= elements[0]"
   ]
  },
  {
   "cell_type": "code",
   "execution_count": null,
   "metadata": {},
   "outputs": [],
   "source": [
    "elements[0].get_property('attributes')"
   ]
  },
  {
   "cell_type": "code",
   "execution_count": null,
   "metadata": {},
   "outputs": [],
   "source": [
    "for element in elements:\n",
    "    print(element.get_attribute('href'))"
   ]
  },
  {
   "cell_type": "code",
   "execution_count": null,
   "metadata": {},
   "outputs": [],
   "source": []
  },
  {
   "cell_type": "code",
   "execution_count": null,
   "metadata": {},
   "outputs": [],
   "source": [
    "def exif(action):\n",
    "    exif = driver.find_element_by_link_text(action)\n",
    "    exif.click()\n",
    "    return"
   ]
  },
  {
   "cell_type": "code",
   "execution_count": null,
   "metadata": {},
   "outputs": [],
   "source": [
    "elem  = driver.find_element_by_xpath('//a[@id=\"yui_3_16_0_1_1576995420623_60055\"]')"
   ]
  },
  {
   "cell_type": "code",
   "execution_count": null,
   "metadata": {},
   "outputs": [],
   "source": [
    "elem.send_keys(Keys.COMMAND + Keys.RETURN)\n"
   ]
  },
  {
   "cell_type": "code",
   "execution_count": null,
   "metadata": {},
   "outputs": [],
   "source": [
    "tab = driver.find_element_by_tag_name('body')\n",
    "tab.send_keys(Keys.COMMAND + \"t\")"
   ]
  },
  {
   "cell_type": "code",
   "execution_count": null,
   "metadata": {},
   "outputs": [],
   "source": [
    "\n"
   ]
  },
  {
   "cell_type": "code",
   "execution_count": null,
   "metadata": {},
   "outputs": [],
   "source": [
    "SHOW = \"Show EXIF\"\n",
    "HIDE = \"Hide EXIF\""
   ]
  },
  {
   "cell_type": "code",
   "execution_count": null,
   "metadata": {},
   "outputs": [],
   "source": [
    "exif(SHOW)"
   ]
  },
  {
   "cell_type": "code",
   "execution_count": null,
   "metadata": {},
   "outputs": [],
   "source": [
    "exif(HIDE)"
   ]
  },
  {
   "cell_type": "code",
   "execution_count": null,
   "metadata": {},
   "outputs": [],
   "source": [
    "main_window = driver.current_window_handle"
   ]
  },
  {
   "cell_type": "code",
   "execution_count": null,
   "metadata": {},
   "outputs": [],
   "source": []
  },
  {
   "cell_type": "code",
   "execution_count": null,
   "metadata": {},
   "outputs": [],
   "source": [
    "driver.execute_script(\"window.scrollTo(0, document.body.scrollHeight);\")"
   ]
  },
  {
   "cell_type": "code",
   "execution_count": null,
   "metadata": {},
   "outputs": [],
   "source": []
  },
  {
   "cell_type": "code",
   "execution_count": null,
   "metadata": {},
   "outputs": [],
   "source": [
    "scrpt = ['window.open(\"', page2_scroll, '\");']"
   ]
  },
  {
   "cell_type": "code",
   "execution_count": null,
   "metadata": {},
   "outputs": [],
   "source": [
    "driver.find_element_by_tag_name('body').send_keys(Keys.COMMAND + 't') "
   ]
  },
  {
   "cell_type": "code",
   "execution_count": null,
   "metadata": {},
   "outputs": [],
   "source": [
    "driver.execute_script(\"\".join(scrpt))"
   ]
  },
  {
   "cell_type": "code",
   "execution_count": null,
   "metadata": {},
   "outputs": [],
   "source": [
    "driver.execute_script('window.open(\"\")')"
   ]
  },
  {
   "cell_type": "code",
   "execution_count": null,
   "metadata": {},
   "outputs": [],
   "source": [
    "new_tab = [tab for tab in driver.window_handles if tab != main_window][0]"
   ]
  },
  {
   "cell_type": "code",
   "execution_count": null,
   "metadata": {},
   "outputs": [],
   "source": [
    "driver.switch_to.window(new_tab)"
   ]
  },
  {
   "cell_type": "code",
   "execution_count": null,
   "metadata": {},
   "outputs": [],
   "source": [
    "driver.get(\"https://www.google.com\")"
   ]
  },
  {
   "cell_type": "code",
   "execution_count": null,
   "metadata": {},
   "outputs": [],
   "source": [
    "driver.close()"
   ]
  },
  {
   "cell_type": "code",
   "execution_count": null,
   "metadata": {},
   "outputs": [],
   "source": [
    "driver.current_window_handle"
   ]
  },
  {
   "cell_type": "code",
   "execution_count": null,
   "metadata": {},
   "outputs": [],
   "source": [
    "driver.quit()"
   ]
  },
  {
   "cell_type": "code",
   "execution_count": null,
   "metadata": {},
   "outputs": [],
   "source": []
  },
  {
   "cell_type": "code",
   "execution_count": null,
   "metadata": {},
   "outputs": [],
   "source": []
  },
  {
   "cell_type": "code",
   "execution_count": null,
   "metadata": {},
   "outputs": [],
   "source": []
  }
 ],
 "metadata": {
  "kernelspec": {
   "display_name": "Python 3",
   "language": "python",
   "name": "python3"
  },
  "language_info": {
   "codemirror_mode": {
    "name": "ipython",
    "version": 3
   },
   "file_extension": ".py",
   "mimetype": "text/x-python",
   "name": "python",
   "nbconvert_exporter": "python",
   "pygments_lexer": "ipython3",
   "version": "3.7.4"
  }
 },
 "nbformat": 4,
 "nbformat_minor": 4
}
